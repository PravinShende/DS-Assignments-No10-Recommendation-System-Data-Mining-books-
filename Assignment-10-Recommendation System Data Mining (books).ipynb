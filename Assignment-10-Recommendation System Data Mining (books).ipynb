{
 "cells": [
  {
   "cell_type": "markdown",
   "id": "fa1df959",
   "metadata": {},
   "source": [
    "# Business problem:"
   ]
  },
  {
   "cell_type": "markdown",
   "id": "4e000f4e",
   "metadata": {},
   "source": [
    "### To build a recommender system by using cosine simillarties score."
   ]
  },
  {
   "cell_type": "code",
   "execution_count": 1,
   "id": "8e7c4d0b",
   "metadata": {
    "ExecuteTime": {
     "end_time": "2021-12-15T16:05:30.406708Z",
     "start_time": "2021-12-15T16:05:22.316753Z"
    }
   },
   "outputs": [],
   "source": [
    "# Importing necessary libraries\n",
    "import pandas as pd\n",
    "import numpy as np\n",
    "import matplotlib.pyplot as plt\n",
    "%matplotlib inline"
   ]
  },
  {
   "cell_type": "code",
   "execution_count": 2,
   "id": "cffb7bf0",
   "metadata": {
    "ExecuteTime": {
     "end_time": "2021-12-15T16:06:32.829364Z",
     "start_time": "2021-12-15T16:06:32.782490Z"
    }
   },
   "outputs": [
    {
     "data": {
      "text/html": [
       "<div>\n",
       "<style scoped>\n",
       "    .dataframe tbody tr th:only-of-type {\n",
       "        vertical-align: middle;\n",
       "    }\n",
       "\n",
       "    .dataframe tbody tr th {\n",
       "        vertical-align: top;\n",
       "    }\n",
       "\n",
       "    .dataframe thead th {\n",
       "        text-align: right;\n",
       "    }\n",
       "</style>\n",
       "<table border=\"1\" class=\"dataframe\">\n",
       "  <thead>\n",
       "    <tr style=\"text-align: right;\">\n",
       "      <th></th>\n",
       "      <th>Unnamed: 0</th>\n",
       "      <th>User.ID</th>\n",
       "      <th>Book.Title</th>\n",
       "      <th>Book.Rating</th>\n",
       "    </tr>\n",
       "  </thead>\n",
       "  <tbody>\n",
       "    <tr>\n",
       "      <th>0</th>\n",
       "      <td>1</td>\n",
       "      <td>276726</td>\n",
       "      <td>Classical Mythology</td>\n",
       "      <td>5</td>\n",
       "    </tr>\n",
       "    <tr>\n",
       "      <th>1</th>\n",
       "      <td>2</td>\n",
       "      <td>276729</td>\n",
       "      <td>Clara Callan</td>\n",
       "      <td>3</td>\n",
       "    </tr>\n",
       "    <tr>\n",
       "      <th>2</th>\n",
       "      <td>3</td>\n",
       "      <td>276729</td>\n",
       "      <td>Decision in Normandy</td>\n",
       "      <td>6</td>\n",
       "    </tr>\n",
       "    <tr>\n",
       "      <th>3</th>\n",
       "      <td>4</td>\n",
       "      <td>276736</td>\n",
       "      <td>Flu: The Story of the Great Influenza Pandemic...</td>\n",
       "      <td>8</td>\n",
       "    </tr>\n",
       "    <tr>\n",
       "      <th>4</th>\n",
       "      <td>5</td>\n",
       "      <td>276737</td>\n",
       "      <td>The Mummies of Urumchi</td>\n",
       "      <td>6</td>\n",
       "    </tr>\n",
       "    <tr>\n",
       "      <th>...</th>\n",
       "      <td>...</td>\n",
       "      <td>...</td>\n",
       "      <td>...</td>\n",
       "      <td>...</td>\n",
       "    </tr>\n",
       "    <tr>\n",
       "      <th>9995</th>\n",
       "      <td>9996</td>\n",
       "      <td>162121</td>\n",
       "      <td>American Fried: Adventures of a Happy Eater.</td>\n",
       "      <td>7</td>\n",
       "    </tr>\n",
       "    <tr>\n",
       "      <th>9996</th>\n",
       "      <td>9997</td>\n",
       "      <td>162121</td>\n",
       "      <td>Cannibal In Manhattan</td>\n",
       "      <td>9</td>\n",
       "    </tr>\n",
       "    <tr>\n",
       "      <th>9997</th>\n",
       "      <td>9998</td>\n",
       "      <td>162121</td>\n",
       "      <td>How to Flirt: A Practical Guide</td>\n",
       "      <td>7</td>\n",
       "    </tr>\n",
       "    <tr>\n",
       "      <th>9998</th>\n",
       "      <td>9999</td>\n",
       "      <td>162121</td>\n",
       "      <td>Twilight</td>\n",
       "      <td>8</td>\n",
       "    </tr>\n",
       "    <tr>\n",
       "      <th>9999</th>\n",
       "      <td>10000</td>\n",
       "      <td>162129</td>\n",
       "      <td>Kids Say the Darndest Things</td>\n",
       "      <td>6</td>\n",
       "    </tr>\n",
       "  </tbody>\n",
       "</table>\n",
       "<p>10000 rows × 4 columns</p>\n",
       "</div>"
      ],
      "text/plain": [
       "      Unnamed: 0  User.ID                                         Book.Title  \\\n",
       "0              1   276726                                Classical Mythology   \n",
       "1              2   276729                                       Clara Callan   \n",
       "2              3   276729                               Decision in Normandy   \n",
       "3              4   276736  Flu: The Story of the Great Influenza Pandemic...   \n",
       "4              5   276737                             The Mummies of Urumchi   \n",
       "...          ...      ...                                                ...   \n",
       "9995        9996   162121       American Fried: Adventures of a Happy Eater.   \n",
       "9996        9997   162121                              Cannibal In Manhattan   \n",
       "9997        9998   162121                    How to Flirt: A Practical Guide   \n",
       "9998        9999   162121                                           Twilight   \n",
       "9999       10000   162129                       Kids Say the Darndest Things   \n",
       "\n",
       "      Book.Rating  \n",
       "0               5  \n",
       "1               3  \n",
       "2               6  \n",
       "3               8  \n",
       "4               6  \n",
       "...           ...  \n",
       "9995            7  \n",
       "9996            9  \n",
       "9997            7  \n",
       "9998            8  \n",
       "9999            6  \n",
       "\n",
       "[10000 rows x 4 columns]"
      ]
     },
     "execution_count": 2,
     "metadata": {},
     "output_type": "execute_result"
    }
   ],
   "source": [
    "data=pd.read_csv('book.csv',encoding='latin1')\n",
    "data"
   ]
  },
  {
   "cell_type": "code",
   "execution_count": 3,
   "id": "4de652b5",
   "metadata": {
    "ExecuteTime": {
     "end_time": "2021-12-15T16:07:01.367974Z",
     "start_time": "2021-12-15T16:07:01.360002Z"
    }
   },
   "outputs": [],
   "source": [
    "data=data.drop(['Unnamed: 0'],axis=1)"
   ]
  },
  {
   "cell_type": "code",
   "execution_count": 4,
   "id": "6a4441ed",
   "metadata": {
    "ExecuteTime": {
     "end_time": "2021-12-15T16:07:14.950465Z",
     "start_time": "2021-12-15T16:07:14.919269Z"
    }
   },
   "outputs": [
    {
     "data": {
      "text/html": [
       "<div>\n",
       "<style scoped>\n",
       "    .dataframe tbody tr th:only-of-type {\n",
       "        vertical-align: middle;\n",
       "    }\n",
       "\n",
       "    .dataframe tbody tr th {\n",
       "        vertical-align: top;\n",
       "    }\n",
       "\n",
       "    .dataframe thead th {\n",
       "        text-align: right;\n",
       "    }\n",
       "</style>\n",
       "<table border=\"1\" class=\"dataframe\">\n",
       "  <thead>\n",
       "    <tr style=\"text-align: right;\">\n",
       "      <th></th>\n",
       "      <th>ID</th>\n",
       "      <th>Book_Title</th>\n",
       "      <th>Book_Rating</th>\n",
       "    </tr>\n",
       "  </thead>\n",
       "  <tbody>\n",
       "    <tr>\n",
       "      <th>0</th>\n",
       "      <td>276726</td>\n",
       "      <td>Classical Mythology</td>\n",
       "      <td>5</td>\n",
       "    </tr>\n",
       "    <tr>\n",
       "      <th>1</th>\n",
       "      <td>276729</td>\n",
       "      <td>Clara Callan</td>\n",
       "      <td>3</td>\n",
       "    </tr>\n",
       "    <tr>\n",
       "      <th>2</th>\n",
       "      <td>276729</td>\n",
       "      <td>Decision in Normandy</td>\n",
       "      <td>6</td>\n",
       "    </tr>\n",
       "    <tr>\n",
       "      <th>3</th>\n",
       "      <td>276736</td>\n",
       "      <td>Flu: The Story of the Great Influenza Pandemic...</td>\n",
       "      <td>8</td>\n",
       "    </tr>\n",
       "    <tr>\n",
       "      <th>4</th>\n",
       "      <td>276737</td>\n",
       "      <td>The Mummies of Urumchi</td>\n",
       "      <td>6</td>\n",
       "    </tr>\n",
       "    <tr>\n",
       "      <th>...</th>\n",
       "      <td>...</td>\n",
       "      <td>...</td>\n",
       "      <td>...</td>\n",
       "    </tr>\n",
       "    <tr>\n",
       "      <th>9995</th>\n",
       "      <td>162121</td>\n",
       "      <td>American Fried: Adventures of a Happy Eater.</td>\n",
       "      <td>7</td>\n",
       "    </tr>\n",
       "    <tr>\n",
       "      <th>9996</th>\n",
       "      <td>162121</td>\n",
       "      <td>Cannibal In Manhattan</td>\n",
       "      <td>9</td>\n",
       "    </tr>\n",
       "    <tr>\n",
       "      <th>9997</th>\n",
       "      <td>162121</td>\n",
       "      <td>How to Flirt: A Practical Guide</td>\n",
       "      <td>7</td>\n",
       "    </tr>\n",
       "    <tr>\n",
       "      <th>9998</th>\n",
       "      <td>162121</td>\n",
       "      <td>Twilight</td>\n",
       "      <td>8</td>\n",
       "    </tr>\n",
       "    <tr>\n",
       "      <th>9999</th>\n",
       "      <td>162129</td>\n",
       "      <td>Kids Say the Darndest Things</td>\n",
       "      <td>6</td>\n",
       "    </tr>\n",
       "  </tbody>\n",
       "</table>\n",
       "<p>10000 rows × 3 columns</p>\n",
       "</div>"
      ],
      "text/plain": [
       "          ID                                         Book_Title  Book_Rating\n",
       "0     276726                                Classical Mythology            5\n",
       "1     276729                                       Clara Callan            3\n",
       "2     276729                               Decision in Normandy            6\n",
       "3     276736  Flu: The Story of the Great Influenza Pandemic...            8\n",
       "4     276737                             The Mummies of Urumchi            6\n",
       "...      ...                                                ...          ...\n",
       "9995  162121       American Fried: Adventures of a Happy Eater.            7\n",
       "9996  162121                              Cannibal In Manhattan            9\n",
       "9997  162121                    How to Flirt: A Practical Guide            7\n",
       "9998  162121                                           Twilight            8\n",
       "9999  162129                       Kids Say the Darndest Things            6\n",
       "\n",
       "[10000 rows x 3 columns]"
      ]
     },
     "execution_count": 4,
     "metadata": {},
     "output_type": "execute_result"
    }
   ],
   "source": [
    "data=data.rename(columns={'User.ID':'ID','Book.Title':'Book_Title','Book.Rating':'Book_Rating'})\n",
    "data"
   ]
  },
  {
   "cell_type": "code",
   "execution_count": 5,
   "id": "25a1e58e",
   "metadata": {
    "ExecuteTime": {
     "end_time": "2021-12-15T16:07:32.397691Z",
     "start_time": "2021-12-15T16:07:32.367772Z"
    }
   },
   "outputs": [
    {
     "name": "stdout",
     "output_type": "stream",
     "text": [
      "<class 'pandas.core.frame.DataFrame'>\n",
      "RangeIndex: 10000 entries, 0 to 9999\n",
      "Data columns (total 3 columns):\n",
      " #   Column       Non-Null Count  Dtype \n",
      "---  ------       --------------  ----- \n",
      " 0   ID           10000 non-null  int64 \n",
      " 1   Book_Title   10000 non-null  object\n",
      " 2   Book_Rating  10000 non-null  int64 \n",
      "dtypes: int64(2), object(1)\n",
      "memory usage: 234.5+ KB\n"
     ]
    }
   ],
   "source": [
    "data.info()"
   ]
  },
  {
   "cell_type": "code",
   "execution_count": 6,
   "id": "f24a1950",
   "metadata": {
    "ExecuteTime": {
     "end_time": "2021-12-15T16:07:45.024113Z",
     "start_time": "2021-12-15T16:07:44.914600Z"
    }
   },
   "outputs": [
    {
     "data": {
      "text/html": [
       "<div>\n",
       "<style scoped>\n",
       "    .dataframe tbody tr th:only-of-type {\n",
       "        vertical-align: middle;\n",
       "    }\n",
       "\n",
       "    .dataframe tbody tr th {\n",
       "        vertical-align: top;\n",
       "    }\n",
       "\n",
       "    .dataframe thead th {\n",
       "        text-align: right;\n",
       "    }\n",
       "</style>\n",
       "<table border=\"1\" class=\"dataframe\">\n",
       "  <thead>\n",
       "    <tr style=\"text-align: right;\">\n",
       "      <th></th>\n",
       "      <th>ID</th>\n",
       "      <th>Book_Rating</th>\n",
       "    </tr>\n",
       "  </thead>\n",
       "  <tbody>\n",
       "    <tr>\n",
       "      <th>count</th>\n",
       "      <td>10000.000000</td>\n",
       "      <td>10000.00000</td>\n",
       "    </tr>\n",
       "    <tr>\n",
       "      <th>mean</th>\n",
       "      <td>95321.249800</td>\n",
       "      <td>7.56630</td>\n",
       "    </tr>\n",
       "    <tr>\n",
       "      <th>std</th>\n",
       "      <td>117645.703609</td>\n",
       "      <td>1.82152</td>\n",
       "    </tr>\n",
       "    <tr>\n",
       "      <th>min</th>\n",
       "      <td>8.000000</td>\n",
       "      <td>1.00000</td>\n",
       "    </tr>\n",
       "    <tr>\n",
       "      <th>25%</th>\n",
       "      <td>2103.000000</td>\n",
       "      <td>7.00000</td>\n",
       "    </tr>\n",
       "    <tr>\n",
       "      <th>50%</th>\n",
       "      <td>3757.000000</td>\n",
       "      <td>8.00000</td>\n",
       "    </tr>\n",
       "    <tr>\n",
       "      <th>75%</th>\n",
       "      <td>162052.000000</td>\n",
       "      <td>9.00000</td>\n",
       "    </tr>\n",
       "    <tr>\n",
       "      <th>max</th>\n",
       "      <td>278854.000000</td>\n",
       "      <td>10.00000</td>\n",
       "    </tr>\n",
       "  </tbody>\n",
       "</table>\n",
       "</div>"
      ],
      "text/plain": [
       "                  ID  Book_Rating\n",
       "count   10000.000000  10000.00000\n",
       "mean    95321.249800      7.56630\n",
       "std    117645.703609      1.82152\n",
       "min         8.000000      1.00000\n",
       "25%      2103.000000      7.00000\n",
       "50%      3757.000000      8.00000\n",
       "75%    162052.000000      9.00000\n",
       "max    278854.000000     10.00000"
      ]
     },
     "execution_count": 6,
     "metadata": {},
     "output_type": "execute_result"
    }
   ],
   "source": [
    "data.describe()"
   ]
  },
  {
   "cell_type": "code",
   "execution_count": 7,
   "id": "41e76b88",
   "metadata": {
    "ExecuteTime": {
     "end_time": "2021-12-15T16:08:00.083941Z",
     "start_time": "2021-12-15T16:08:00.064993Z"
    }
   },
   "outputs": [
    {
     "data": {
      "text/plain": [
       "ID             0\n",
       "Book_Title     0\n",
       "Book_Rating    0\n",
       "dtype: int64"
      ]
     },
     "execution_count": 7,
     "metadata": {},
     "output_type": "execute_result"
    }
   ],
   "source": [
    "data.isnull().sum()"
   ]
  },
  {
   "cell_type": "code",
   "execution_count": 8,
   "id": "2211e10d",
   "metadata": {
    "ExecuteTime": {
     "end_time": "2021-12-15T16:08:14.757264Z",
     "start_time": "2021-12-15T16:08:14.736321Z"
    }
   },
   "outputs": [
    {
     "data": {
      "text/html": [
       "<div>\n",
       "<style scoped>\n",
       "    .dataframe tbody tr th:only-of-type {\n",
       "        vertical-align: middle;\n",
       "    }\n",
       "\n",
       "    .dataframe tbody tr th {\n",
       "        vertical-align: top;\n",
       "    }\n",
       "\n",
       "    .dataframe thead th {\n",
       "        text-align: right;\n",
       "    }\n",
       "</style>\n",
       "<table border=\"1\" class=\"dataframe\">\n",
       "  <thead>\n",
       "    <tr style=\"text-align: right;\">\n",
       "      <th></th>\n",
       "      <th>ID</th>\n",
       "      <th>Book_Rating</th>\n",
       "    </tr>\n",
       "  </thead>\n",
       "  <tbody>\n",
       "    <tr>\n",
       "      <th>ID</th>\n",
       "      <td>1.000000</td>\n",
       "      <td>-0.041523</td>\n",
       "    </tr>\n",
       "    <tr>\n",
       "      <th>Book_Rating</th>\n",
       "      <td>-0.041523</td>\n",
       "      <td>1.000000</td>\n",
       "    </tr>\n",
       "  </tbody>\n",
       "</table>\n",
       "</div>"
      ],
      "text/plain": [
       "                   ID  Book_Rating\n",
       "ID           1.000000    -0.041523\n",
       "Book_Rating -0.041523     1.000000"
      ]
     },
     "execution_count": 8,
     "metadata": {},
     "output_type": "execute_result"
    }
   ],
   "source": [
    "data.corr()"
   ]
  },
  {
   "cell_type": "code",
   "execution_count": 9,
   "id": "10496b80",
   "metadata": {
    "ExecuteTime": {
     "end_time": "2021-12-15T16:08:37.299851Z",
     "start_time": "2021-12-15T16:08:37.288963Z"
    }
   },
   "outputs": [],
   "source": [
    "df=data.copy()"
   ]
  },
  {
   "cell_type": "code",
   "execution_count": 10,
   "id": "1492db60",
   "metadata": {
    "ExecuteTime": {
     "end_time": "2021-12-15T16:08:50.321318Z",
     "start_time": "2021-12-15T16:08:50.296387Z"
    }
   },
   "outputs": [
    {
     "data": {
      "text/html": [
       "<div>\n",
       "<style scoped>\n",
       "    .dataframe tbody tr th:only-of-type {\n",
       "        vertical-align: middle;\n",
       "    }\n",
       "\n",
       "    .dataframe tbody tr th {\n",
       "        vertical-align: top;\n",
       "    }\n",
       "\n",
       "    .dataframe thead th {\n",
       "        text-align: right;\n",
       "    }\n",
       "</style>\n",
       "<table border=\"1\" class=\"dataframe\">\n",
       "  <thead>\n",
       "    <tr style=\"text-align: right;\">\n",
       "      <th></th>\n",
       "      <th>ID</th>\n",
       "      <th>Book_Title</th>\n",
       "      <th>Book_Rating</th>\n",
       "    </tr>\n",
       "  </thead>\n",
       "  <tbody>\n",
       "    <tr>\n",
       "      <th>0</th>\n",
       "      <td>276726</td>\n",
       "      <td>Classical Mythology</td>\n",
       "      <td>5</td>\n",
       "    </tr>\n",
       "    <tr>\n",
       "      <th>1</th>\n",
       "      <td>276729</td>\n",
       "      <td>Clara Callan</td>\n",
       "      <td>3</td>\n",
       "    </tr>\n",
       "  </tbody>\n",
       "</table>\n",
       "</div>"
      ],
      "text/plain": [
       "       ID           Book_Title  Book_Rating\n",
       "0  276726  Classical Mythology            5\n",
       "1  276729         Clara Callan            3"
      ]
     },
     "execution_count": 10,
     "metadata": {},
     "output_type": "execute_result"
    }
   ],
   "source": [
    "df.head(2)"
   ]
  },
  {
   "cell_type": "code",
   "execution_count": 11,
   "id": "9f496f74",
   "metadata": {
    "ExecuteTime": {
     "end_time": "2021-12-15T16:09:06.709503Z",
     "start_time": "2021-12-15T16:09:06.179686Z"
    }
   },
   "outputs": [
    {
     "data": {
      "text/plain": [
       "array([276726, 276729, 276736, ..., 162113, 162121, 162129], dtype=int64)"
      ]
     },
     "execution_count": 11,
     "metadata": {},
     "output_type": "execute_result"
    }
   ],
   "source": [
    "df.ID.unique()"
   ]
  },
  {
   "cell_type": "code",
   "execution_count": 12,
   "id": "b0d4419e",
   "metadata": {
    "ExecuteTime": {
     "end_time": "2021-12-15T16:09:23.364698Z",
     "start_time": "2021-12-15T16:09:23.345750Z"
    }
   },
   "outputs": [
    {
     "data": {
      "text/plain": [
       "2182"
      ]
     },
     "execution_count": 12,
     "metadata": {},
     "output_type": "execute_result"
    }
   ],
   "source": [
    "n_users = df.ID.unique().shape[0]\n",
    "n_users"
   ]
  },
  {
   "cell_type": "code",
   "execution_count": 13,
   "id": "92feadc7",
   "metadata": {
    "ExecuteTime": {
     "end_time": "2021-12-15T16:09:39.399265Z",
     "start_time": "2021-12-15T16:09:39.379362Z"
    }
   },
   "outputs": [
    {
     "data": {
      "text/plain": [
       "9659"
      ]
     },
     "execution_count": 13,
     "metadata": {},
     "output_type": "execute_result"
    }
   ],
   "source": [
    "B_items = df.Book_Title.unique().shape[0]\n",
    "B_items"
   ]
  },
  {
   "cell_type": "code",
   "execution_count": 14,
   "id": "01e96410",
   "metadata": {
    "ExecuteTime": {
     "end_time": "2021-12-15T16:10:03.368933Z",
     "start_time": "2021-12-15T16:10:02.237332Z"
    }
   },
   "outputs": [],
   "source": [
    "book_df = df.pivot_table(index='ID',\n",
    "                   columns='Book_Title',\n",
    "                   values='Book_Rating').reset_index(drop=True)"
   ]
  },
  {
   "cell_type": "code",
   "execution_count": 15,
   "id": "3a5cff8a",
   "metadata": {
    "ExecuteTime": {
     "end_time": "2021-12-15T16:10:57.189891Z",
     "start_time": "2021-12-15T16:10:57.147008Z"
    }
   },
   "outputs": [
    {
     "data": {
      "text/html": [
       "<div>\n",
       "<style scoped>\n",
       "    .dataframe tbody tr th:only-of-type {\n",
       "        vertical-align: middle;\n",
       "    }\n",
       "\n",
       "    .dataframe tbody tr th {\n",
       "        vertical-align: top;\n",
       "    }\n",
       "\n",
       "    .dataframe thead th {\n",
       "        text-align: right;\n",
       "    }\n",
       "</style>\n",
       "<table border=\"1\" class=\"dataframe\">\n",
       "  <thead>\n",
       "    <tr style=\"text-align: right;\">\n",
       "      <th>Book_Title</th>\n",
       "      <th>Jason, Madison &amp;amp</th>\n",
       "      <th>Other Stories;Merril;1985;McClelland &amp;amp</th>\n",
       "      <th>Repairing PC Drives &amp;amp</th>\n",
       "      <th>'48</th>\n",
       "      <th>'O Au No Keia: Voices from Hawai'I's Mahu and Transgender Communities</th>\n",
       "      <th>...AND THE HORSE HE RODE IN ON : THE PEOPLE V. KENNETH STARR</th>\n",
       "      <th>01-01-00: A Novel of the Millennium</th>\n",
       "      <th>1,401 More Things That P*Ss Me Off</th>\n",
       "      <th>10 Commandments Of Dating</th>\n",
       "      <th>100 Great Fantasy Short, Short Stories</th>\n",
       "      <th>...</th>\n",
       "      <th>Zora Hurston and the Chinaberry Tree (Reading Rainbow Book)</th>\n",
       "      <th>\\Even Monkeys Fall from Trees\\ and Other Japanese Proverbs</th>\n",
       "      <th>\\I Won't Learn from You\\: And Other Thoughts on Creative Maladjustment</th>\n",
       "      <th>\\More More More,\\ Said the Baby</th>\n",
       "      <th>\\O\\ Is for Outlaw</th>\n",
       "      <th>\\Surely You're Joking, Mr. Feynman!\\: Adventures of a Curious Character</th>\n",
       "      <th>\\Well, there's your problem\\: Cartoons</th>\n",
       "      <th>iI Paradiso Degli Orchi</th>\n",
       "      <th>stardust</th>\n",
       "      <th>Ã?Â?bermorgen.</th>\n",
       "    </tr>\n",
       "  </thead>\n",
       "  <tbody>\n",
       "    <tr>\n",
       "      <th>0</th>\n",
       "      <td>NaN</td>\n",
       "      <td>NaN</td>\n",
       "      <td>NaN</td>\n",
       "      <td>NaN</td>\n",
       "      <td>NaN</td>\n",
       "      <td>NaN</td>\n",
       "      <td>NaN</td>\n",
       "      <td>NaN</td>\n",
       "      <td>NaN</td>\n",
       "      <td>NaN</td>\n",
       "      <td>...</td>\n",
       "      <td>NaN</td>\n",
       "      <td>NaN</td>\n",
       "      <td>NaN</td>\n",
       "      <td>NaN</td>\n",
       "      <td>NaN</td>\n",
       "      <td>NaN</td>\n",
       "      <td>NaN</td>\n",
       "      <td>NaN</td>\n",
       "      <td>NaN</td>\n",
       "      <td>NaN</td>\n",
       "    </tr>\n",
       "    <tr>\n",
       "      <th>1</th>\n",
       "      <td>NaN</td>\n",
       "      <td>NaN</td>\n",
       "      <td>NaN</td>\n",
       "      <td>NaN</td>\n",
       "      <td>NaN</td>\n",
       "      <td>NaN</td>\n",
       "      <td>NaN</td>\n",
       "      <td>NaN</td>\n",
       "      <td>NaN</td>\n",
       "      <td>NaN</td>\n",
       "      <td>...</td>\n",
       "      <td>NaN</td>\n",
       "      <td>NaN</td>\n",
       "      <td>NaN</td>\n",
       "      <td>NaN</td>\n",
       "      <td>NaN</td>\n",
       "      <td>NaN</td>\n",
       "      <td>NaN</td>\n",
       "      <td>NaN</td>\n",
       "      <td>NaN</td>\n",
       "      <td>NaN</td>\n",
       "    </tr>\n",
       "    <tr>\n",
       "      <th>2</th>\n",
       "      <td>NaN</td>\n",
       "      <td>NaN</td>\n",
       "      <td>NaN</td>\n",
       "      <td>NaN</td>\n",
       "      <td>NaN</td>\n",
       "      <td>NaN</td>\n",
       "      <td>NaN</td>\n",
       "      <td>NaN</td>\n",
       "      <td>NaN</td>\n",
       "      <td>NaN</td>\n",
       "      <td>...</td>\n",
       "      <td>NaN</td>\n",
       "      <td>NaN</td>\n",
       "      <td>NaN</td>\n",
       "      <td>NaN</td>\n",
       "      <td>NaN</td>\n",
       "      <td>NaN</td>\n",
       "      <td>NaN</td>\n",
       "      <td>NaN</td>\n",
       "      <td>NaN</td>\n",
       "      <td>NaN</td>\n",
       "    </tr>\n",
       "    <tr>\n",
       "      <th>3</th>\n",
       "      <td>NaN</td>\n",
       "      <td>NaN</td>\n",
       "      <td>NaN</td>\n",
       "      <td>NaN</td>\n",
       "      <td>NaN</td>\n",
       "      <td>NaN</td>\n",
       "      <td>NaN</td>\n",
       "      <td>NaN</td>\n",
       "      <td>NaN</td>\n",
       "      <td>NaN</td>\n",
       "      <td>...</td>\n",
       "      <td>NaN</td>\n",
       "      <td>NaN</td>\n",
       "      <td>NaN</td>\n",
       "      <td>NaN</td>\n",
       "      <td>NaN</td>\n",
       "      <td>NaN</td>\n",
       "      <td>NaN</td>\n",
       "      <td>NaN</td>\n",
       "      <td>NaN</td>\n",
       "      <td>NaN</td>\n",
       "    </tr>\n",
       "    <tr>\n",
       "      <th>4</th>\n",
       "      <td>NaN</td>\n",
       "      <td>NaN</td>\n",
       "      <td>NaN</td>\n",
       "      <td>NaN</td>\n",
       "      <td>NaN</td>\n",
       "      <td>NaN</td>\n",
       "      <td>NaN</td>\n",
       "      <td>NaN</td>\n",
       "      <td>NaN</td>\n",
       "      <td>NaN</td>\n",
       "      <td>...</td>\n",
       "      <td>NaN</td>\n",
       "      <td>NaN</td>\n",
       "      <td>NaN</td>\n",
       "      <td>NaN</td>\n",
       "      <td>NaN</td>\n",
       "      <td>NaN</td>\n",
       "      <td>NaN</td>\n",
       "      <td>NaN</td>\n",
       "      <td>NaN</td>\n",
       "      <td>NaN</td>\n",
       "    </tr>\n",
       "    <tr>\n",
       "      <th>...</th>\n",
       "      <td>...</td>\n",
       "      <td>...</td>\n",
       "      <td>...</td>\n",
       "      <td>...</td>\n",
       "      <td>...</td>\n",
       "      <td>...</td>\n",
       "      <td>...</td>\n",
       "      <td>...</td>\n",
       "      <td>...</td>\n",
       "      <td>...</td>\n",
       "      <td>...</td>\n",
       "      <td>...</td>\n",
       "      <td>...</td>\n",
       "      <td>...</td>\n",
       "      <td>...</td>\n",
       "      <td>...</td>\n",
       "      <td>...</td>\n",
       "      <td>...</td>\n",
       "      <td>...</td>\n",
       "      <td>...</td>\n",
       "      <td>...</td>\n",
       "    </tr>\n",
       "    <tr>\n",
       "      <th>2177</th>\n",
       "      <td>NaN</td>\n",
       "      <td>NaN</td>\n",
       "      <td>NaN</td>\n",
       "      <td>NaN</td>\n",
       "      <td>NaN</td>\n",
       "      <td>NaN</td>\n",
       "      <td>NaN</td>\n",
       "      <td>NaN</td>\n",
       "      <td>NaN</td>\n",
       "      <td>NaN</td>\n",
       "      <td>...</td>\n",
       "      <td>NaN</td>\n",
       "      <td>NaN</td>\n",
       "      <td>NaN</td>\n",
       "      <td>NaN</td>\n",
       "      <td>NaN</td>\n",
       "      <td>NaN</td>\n",
       "      <td>NaN</td>\n",
       "      <td>NaN</td>\n",
       "      <td>NaN</td>\n",
       "      <td>NaN</td>\n",
       "    </tr>\n",
       "    <tr>\n",
       "      <th>2178</th>\n",
       "      <td>NaN</td>\n",
       "      <td>NaN</td>\n",
       "      <td>NaN</td>\n",
       "      <td>NaN</td>\n",
       "      <td>NaN</td>\n",
       "      <td>NaN</td>\n",
       "      <td>NaN</td>\n",
       "      <td>NaN</td>\n",
       "      <td>NaN</td>\n",
       "      <td>NaN</td>\n",
       "      <td>...</td>\n",
       "      <td>NaN</td>\n",
       "      <td>NaN</td>\n",
       "      <td>NaN</td>\n",
       "      <td>NaN</td>\n",
       "      <td>NaN</td>\n",
       "      <td>NaN</td>\n",
       "      <td>NaN</td>\n",
       "      <td>NaN</td>\n",
       "      <td>NaN</td>\n",
       "      <td>NaN</td>\n",
       "    </tr>\n",
       "    <tr>\n",
       "      <th>2179</th>\n",
       "      <td>NaN</td>\n",
       "      <td>NaN</td>\n",
       "      <td>NaN</td>\n",
       "      <td>NaN</td>\n",
       "      <td>NaN</td>\n",
       "      <td>NaN</td>\n",
       "      <td>NaN</td>\n",
       "      <td>NaN</td>\n",
       "      <td>NaN</td>\n",
       "      <td>NaN</td>\n",
       "      <td>...</td>\n",
       "      <td>NaN</td>\n",
       "      <td>NaN</td>\n",
       "      <td>NaN</td>\n",
       "      <td>NaN</td>\n",
       "      <td>NaN</td>\n",
       "      <td>NaN</td>\n",
       "      <td>NaN</td>\n",
       "      <td>7.0</td>\n",
       "      <td>NaN</td>\n",
       "      <td>NaN</td>\n",
       "    </tr>\n",
       "    <tr>\n",
       "      <th>2180</th>\n",
       "      <td>NaN</td>\n",
       "      <td>NaN</td>\n",
       "      <td>NaN</td>\n",
       "      <td>NaN</td>\n",
       "      <td>NaN</td>\n",
       "      <td>NaN</td>\n",
       "      <td>NaN</td>\n",
       "      <td>NaN</td>\n",
       "      <td>NaN</td>\n",
       "      <td>NaN</td>\n",
       "      <td>...</td>\n",
       "      <td>NaN</td>\n",
       "      <td>NaN</td>\n",
       "      <td>NaN</td>\n",
       "      <td>NaN</td>\n",
       "      <td>NaN</td>\n",
       "      <td>NaN</td>\n",
       "      <td>NaN</td>\n",
       "      <td>NaN</td>\n",
       "      <td>NaN</td>\n",
       "      <td>NaN</td>\n",
       "    </tr>\n",
       "    <tr>\n",
       "      <th>2181</th>\n",
       "      <td>NaN</td>\n",
       "      <td>NaN</td>\n",
       "      <td>NaN</td>\n",
       "      <td>NaN</td>\n",
       "      <td>NaN</td>\n",
       "      <td>NaN</td>\n",
       "      <td>NaN</td>\n",
       "      <td>NaN</td>\n",
       "      <td>NaN</td>\n",
       "      <td>NaN</td>\n",
       "      <td>...</td>\n",
       "      <td>NaN</td>\n",
       "      <td>NaN</td>\n",
       "      <td>NaN</td>\n",
       "      <td>NaN</td>\n",
       "      <td>NaN</td>\n",
       "      <td>NaN</td>\n",
       "      <td>NaN</td>\n",
       "      <td>NaN</td>\n",
       "      <td>NaN</td>\n",
       "      <td>NaN</td>\n",
       "    </tr>\n",
       "  </tbody>\n",
       "</table>\n",
       "<p>2182 rows × 9659 columns</p>\n",
       "</div>"
      ],
      "text/plain": [
       "Book_Title   Jason, Madison &amp   Other Stories;Merril;1985;McClelland &amp  \\\n",
       "0                            NaN                                         NaN   \n",
       "1                            NaN                                         NaN   \n",
       "2                            NaN                                         NaN   \n",
       "3                            NaN                                         NaN   \n",
       "4                            NaN                                         NaN   \n",
       "...                          ...                                         ...   \n",
       "2177                         NaN                                         NaN   \n",
       "2178                         NaN                                         NaN   \n",
       "2179                         NaN                                         NaN   \n",
       "2180                         NaN                                         NaN   \n",
       "2181                         NaN                                         NaN   \n",
       "\n",
       "Book_Title   Repairing PC Drives &amp  '48  \\\n",
       "0                                 NaN  NaN   \n",
       "1                                 NaN  NaN   \n",
       "2                                 NaN  NaN   \n",
       "3                                 NaN  NaN   \n",
       "4                                 NaN  NaN   \n",
       "...                               ...  ...   \n",
       "2177                              NaN  NaN   \n",
       "2178                              NaN  NaN   \n",
       "2179                              NaN  NaN   \n",
       "2180                              NaN  NaN   \n",
       "2181                              NaN  NaN   \n",
       "\n",
       "Book_Title  'O Au No Keia: Voices from Hawai'I's Mahu and Transgender Communities  \\\n",
       "0                                                         NaN                       \n",
       "1                                                         NaN                       \n",
       "2                                                         NaN                       \n",
       "3                                                         NaN                       \n",
       "4                                                         NaN                       \n",
       "...                                                       ...                       \n",
       "2177                                                      NaN                       \n",
       "2178                                                      NaN                       \n",
       "2179                                                      NaN                       \n",
       "2180                                                      NaN                       \n",
       "2181                                                      NaN                       \n",
       "\n",
       "Book_Title  ...AND THE HORSE HE RODE IN ON : THE PEOPLE V. KENNETH STARR  \\\n",
       "0                                                         NaN              \n",
       "1                                                         NaN              \n",
       "2                                                         NaN              \n",
       "3                                                         NaN              \n",
       "4                                                         NaN              \n",
       "...                                                       ...              \n",
       "2177                                                      NaN              \n",
       "2178                                                      NaN              \n",
       "2179                                                      NaN              \n",
       "2180                                                      NaN              \n",
       "2181                                                      NaN              \n",
       "\n",
       "Book_Title  01-01-00: A Novel of the Millennium  \\\n",
       "0                                           NaN   \n",
       "1                                           NaN   \n",
       "2                                           NaN   \n",
       "3                                           NaN   \n",
       "4                                           NaN   \n",
       "...                                         ...   \n",
       "2177                                        NaN   \n",
       "2178                                        NaN   \n",
       "2179                                        NaN   \n",
       "2180                                        NaN   \n",
       "2181                                        NaN   \n",
       "\n",
       "Book_Title  1,401 More Things That P*Ss Me Off  10 Commandments Of Dating  \\\n",
       "0                                          NaN                        NaN   \n",
       "1                                          NaN                        NaN   \n",
       "2                                          NaN                        NaN   \n",
       "3                                          NaN                        NaN   \n",
       "4                                          NaN                        NaN   \n",
       "...                                        ...                        ...   \n",
       "2177                                       NaN                        NaN   \n",
       "2178                                       NaN                        NaN   \n",
       "2179                                       NaN                        NaN   \n",
       "2180                                       NaN                        NaN   \n",
       "2181                                       NaN                        NaN   \n",
       "\n",
       "Book_Title  100 Great Fantasy Short, Short Stories  ...  \\\n",
       "0                                              NaN  ...   \n",
       "1                                              NaN  ...   \n",
       "2                                              NaN  ...   \n",
       "3                                              NaN  ...   \n",
       "4                                              NaN  ...   \n",
       "...                                            ...  ...   \n",
       "2177                                           NaN  ...   \n",
       "2178                                           NaN  ...   \n",
       "2179                                           NaN  ...   \n",
       "2180                                           NaN  ...   \n",
       "2181                                           NaN  ...   \n",
       "\n",
       "Book_Title  Zora Hurston and the Chinaberry Tree (Reading Rainbow Book)  \\\n",
       "0                                                         NaN             \n",
       "1                                                         NaN             \n",
       "2                                                         NaN             \n",
       "3                                                         NaN             \n",
       "4                                                         NaN             \n",
       "...                                                       ...             \n",
       "2177                                                      NaN             \n",
       "2178                                                      NaN             \n",
       "2179                                                      NaN             \n",
       "2180                                                      NaN             \n",
       "2181                                                      NaN             \n",
       "\n",
       "Book_Title  \\Even Monkeys Fall from Trees\\ and Other Japanese Proverbs  \\\n",
       "0                                                         NaN            \n",
       "1                                                         NaN            \n",
       "2                                                         NaN            \n",
       "3                                                         NaN            \n",
       "4                                                         NaN            \n",
       "...                                                       ...            \n",
       "2177                                                      NaN            \n",
       "2178                                                      NaN            \n",
       "2179                                                      NaN            \n",
       "2180                                                      NaN            \n",
       "2181                                                      NaN            \n",
       "\n",
       "Book_Title  \\I Won't Learn from You\\: And Other Thoughts on Creative Maladjustment  \\\n",
       "0                                                         NaN                        \n",
       "1                                                         NaN                        \n",
       "2                                                         NaN                        \n",
       "3                                                         NaN                        \n",
       "4                                                         NaN                        \n",
       "...                                                       ...                        \n",
       "2177                                                      NaN                        \n",
       "2178                                                      NaN                        \n",
       "2179                                                      NaN                        \n",
       "2180                                                      NaN                        \n",
       "2181                                                      NaN                        \n",
       "\n",
       "Book_Title  \\More More More,\\ Said the Baby  \\O\\ Is for Outlaw  \\\n",
       "0                                       NaN                NaN   \n",
       "1                                       NaN                NaN   \n",
       "2                                       NaN                NaN   \n",
       "3                                       NaN                NaN   \n",
       "4                                       NaN                NaN   \n",
       "...                                     ...                ...   \n",
       "2177                                    NaN                NaN   \n",
       "2178                                    NaN                NaN   \n",
       "2179                                    NaN                NaN   \n",
       "2180                                    NaN                NaN   \n",
       "2181                                    NaN                NaN   \n",
       "\n",
       "Book_Title  \\Surely You're Joking, Mr. Feynman!\\: Adventures of a Curious Character  \\\n",
       "0                                                         NaN                         \n",
       "1                                                         NaN                         \n",
       "2                                                         NaN                         \n",
       "3                                                         NaN                         \n",
       "4                                                         NaN                         \n",
       "...                                                       ...                         \n",
       "2177                                                      NaN                         \n",
       "2178                                                      NaN                         \n",
       "2179                                                      NaN                         \n",
       "2180                                                      NaN                         \n",
       "2181                                                      NaN                         \n",
       "\n",
       "Book_Title  \\Well, there's your problem\\: Cartoons  iI Paradiso Degli Orchi  \\\n",
       "0                                              NaN                      NaN   \n",
       "1                                              NaN                      NaN   \n",
       "2                                              NaN                      NaN   \n",
       "3                                              NaN                      NaN   \n",
       "4                                              NaN                      NaN   \n",
       "...                                            ...                      ...   \n",
       "2177                                           NaN                      NaN   \n",
       "2178                                           NaN                      NaN   \n",
       "2179                                           NaN                      7.0   \n",
       "2180                                           NaN                      NaN   \n",
       "2181                                           NaN                      NaN   \n",
       "\n",
       "Book_Title  stardust  Ã?Â?bermorgen.  \n",
       "0                NaN             NaN  \n",
       "1                NaN             NaN  \n",
       "2                NaN             NaN  \n",
       "3                NaN             NaN  \n",
       "4                NaN             NaN  \n",
       "...              ...             ...  \n",
       "2177             NaN             NaN  \n",
       "2178             NaN             NaN  \n",
       "2179             NaN             NaN  \n",
       "2180             NaN             NaN  \n",
       "2181             NaN             NaN  \n",
       "\n",
       "[2182 rows x 9659 columns]"
      ]
     },
     "execution_count": 15,
     "metadata": {},
     "output_type": "execute_result"
    }
   ],
   "source": [
    "book_df"
   ]
  },
  {
   "cell_type": "code",
   "execution_count": 16,
   "id": "911dbc7e",
   "metadata": {
    "ExecuteTime": {
     "end_time": "2021-12-15T16:11:21.923587Z",
     "start_time": "2021-12-15T16:11:21.752154Z"
    }
   },
   "outputs": [
    {
     "data": {
      "text/html": [
       "<div>\n",
       "<style scoped>\n",
       "    .dataframe tbody tr th:only-of-type {\n",
       "        vertical-align: middle;\n",
       "    }\n",
       "\n",
       "    .dataframe tbody tr th {\n",
       "        vertical-align: top;\n",
       "    }\n",
       "\n",
       "    .dataframe thead th {\n",
       "        text-align: right;\n",
       "    }\n",
       "</style>\n",
       "<table border=\"1\" class=\"dataframe\">\n",
       "  <thead>\n",
       "    <tr style=\"text-align: right;\">\n",
       "      <th>Book_Title</th>\n",
       "      <th>Jason, Madison &amp;amp</th>\n",
       "      <th>Other Stories;Merril;1985;McClelland &amp;amp</th>\n",
       "      <th>Repairing PC Drives &amp;amp</th>\n",
       "      <th>'48</th>\n",
       "      <th>'O Au No Keia: Voices from Hawai'I's Mahu and Transgender Communities</th>\n",
       "      <th>...AND THE HORSE HE RODE IN ON : THE PEOPLE V. KENNETH STARR</th>\n",
       "      <th>01-01-00: A Novel of the Millennium</th>\n",
       "      <th>1,401 More Things That P*Ss Me Off</th>\n",
       "      <th>10 Commandments Of Dating</th>\n",
       "      <th>100 Great Fantasy Short, Short Stories</th>\n",
       "      <th>...</th>\n",
       "      <th>Zora Hurston and the Chinaberry Tree (Reading Rainbow Book)</th>\n",
       "      <th>\\Even Monkeys Fall from Trees\\ and Other Japanese Proverbs</th>\n",
       "      <th>\\I Won't Learn from You\\: And Other Thoughts on Creative Maladjustment</th>\n",
       "      <th>\\More More More,\\ Said the Baby</th>\n",
       "      <th>\\O\\ Is for Outlaw</th>\n",
       "      <th>\\Surely You're Joking, Mr. Feynman!\\: Adventures of a Curious Character</th>\n",
       "      <th>\\Well, there's your problem\\: Cartoons</th>\n",
       "      <th>iI Paradiso Degli Orchi</th>\n",
       "      <th>stardust</th>\n",
       "      <th>Ã?Â?bermorgen.</th>\n",
       "    </tr>\n",
       "  </thead>\n",
       "  <tbody>\n",
       "    <tr>\n",
       "      <th>0</th>\n",
       "      <td>0.0</td>\n",
       "      <td>0.0</td>\n",
       "      <td>0.0</td>\n",
       "      <td>0.0</td>\n",
       "      <td>0.0</td>\n",
       "      <td>0.0</td>\n",
       "      <td>0.0</td>\n",
       "      <td>0.0</td>\n",
       "      <td>0.0</td>\n",
       "      <td>0.0</td>\n",
       "      <td>...</td>\n",
       "      <td>0.0</td>\n",
       "      <td>0.0</td>\n",
       "      <td>0.0</td>\n",
       "      <td>0.0</td>\n",
       "      <td>0.0</td>\n",
       "      <td>0.0</td>\n",
       "      <td>0.0</td>\n",
       "      <td>0.0</td>\n",
       "      <td>0.0</td>\n",
       "      <td>0.0</td>\n",
       "    </tr>\n",
       "    <tr>\n",
       "      <th>1</th>\n",
       "      <td>0.0</td>\n",
       "      <td>0.0</td>\n",
       "      <td>0.0</td>\n",
       "      <td>0.0</td>\n",
       "      <td>0.0</td>\n",
       "      <td>0.0</td>\n",
       "      <td>0.0</td>\n",
       "      <td>0.0</td>\n",
       "      <td>0.0</td>\n",
       "      <td>0.0</td>\n",
       "      <td>...</td>\n",
       "      <td>0.0</td>\n",
       "      <td>0.0</td>\n",
       "      <td>0.0</td>\n",
       "      <td>0.0</td>\n",
       "      <td>0.0</td>\n",
       "      <td>0.0</td>\n",
       "      <td>0.0</td>\n",
       "      <td>0.0</td>\n",
       "      <td>0.0</td>\n",
       "      <td>0.0</td>\n",
       "    </tr>\n",
       "    <tr>\n",
       "      <th>2</th>\n",
       "      <td>0.0</td>\n",
       "      <td>0.0</td>\n",
       "      <td>0.0</td>\n",
       "      <td>0.0</td>\n",
       "      <td>0.0</td>\n",
       "      <td>0.0</td>\n",
       "      <td>0.0</td>\n",
       "      <td>0.0</td>\n",
       "      <td>0.0</td>\n",
       "      <td>0.0</td>\n",
       "      <td>...</td>\n",
       "      <td>0.0</td>\n",
       "      <td>0.0</td>\n",
       "      <td>0.0</td>\n",
       "      <td>0.0</td>\n",
       "      <td>0.0</td>\n",
       "      <td>0.0</td>\n",
       "      <td>0.0</td>\n",
       "      <td>0.0</td>\n",
       "      <td>0.0</td>\n",
       "      <td>0.0</td>\n",
       "    </tr>\n",
       "    <tr>\n",
       "      <th>3</th>\n",
       "      <td>0.0</td>\n",
       "      <td>0.0</td>\n",
       "      <td>0.0</td>\n",
       "      <td>0.0</td>\n",
       "      <td>0.0</td>\n",
       "      <td>0.0</td>\n",
       "      <td>0.0</td>\n",
       "      <td>0.0</td>\n",
       "      <td>0.0</td>\n",
       "      <td>0.0</td>\n",
       "      <td>...</td>\n",
       "      <td>0.0</td>\n",
       "      <td>0.0</td>\n",
       "      <td>0.0</td>\n",
       "      <td>0.0</td>\n",
       "      <td>0.0</td>\n",
       "      <td>0.0</td>\n",
       "      <td>0.0</td>\n",
       "      <td>0.0</td>\n",
       "      <td>0.0</td>\n",
       "      <td>0.0</td>\n",
       "    </tr>\n",
       "    <tr>\n",
       "      <th>4</th>\n",
       "      <td>0.0</td>\n",
       "      <td>0.0</td>\n",
       "      <td>0.0</td>\n",
       "      <td>0.0</td>\n",
       "      <td>0.0</td>\n",
       "      <td>0.0</td>\n",
       "      <td>0.0</td>\n",
       "      <td>0.0</td>\n",
       "      <td>0.0</td>\n",
       "      <td>0.0</td>\n",
       "      <td>...</td>\n",
       "      <td>0.0</td>\n",
       "      <td>0.0</td>\n",
       "      <td>0.0</td>\n",
       "      <td>0.0</td>\n",
       "      <td>0.0</td>\n",
       "      <td>0.0</td>\n",
       "      <td>0.0</td>\n",
       "      <td>0.0</td>\n",
       "      <td>0.0</td>\n",
       "      <td>0.0</td>\n",
       "    </tr>\n",
       "    <tr>\n",
       "      <th>...</th>\n",
       "      <td>...</td>\n",
       "      <td>...</td>\n",
       "      <td>...</td>\n",
       "      <td>...</td>\n",
       "      <td>...</td>\n",
       "      <td>...</td>\n",
       "      <td>...</td>\n",
       "      <td>...</td>\n",
       "      <td>...</td>\n",
       "      <td>...</td>\n",
       "      <td>...</td>\n",
       "      <td>...</td>\n",
       "      <td>...</td>\n",
       "      <td>...</td>\n",
       "      <td>...</td>\n",
       "      <td>...</td>\n",
       "      <td>...</td>\n",
       "      <td>...</td>\n",
       "      <td>...</td>\n",
       "      <td>...</td>\n",
       "      <td>...</td>\n",
       "    </tr>\n",
       "    <tr>\n",
       "      <th>2177</th>\n",
       "      <td>0.0</td>\n",
       "      <td>0.0</td>\n",
       "      <td>0.0</td>\n",
       "      <td>0.0</td>\n",
       "      <td>0.0</td>\n",
       "      <td>0.0</td>\n",
       "      <td>0.0</td>\n",
       "      <td>0.0</td>\n",
       "      <td>0.0</td>\n",
       "      <td>0.0</td>\n",
       "      <td>...</td>\n",
       "      <td>0.0</td>\n",
       "      <td>0.0</td>\n",
       "      <td>0.0</td>\n",
       "      <td>0.0</td>\n",
       "      <td>0.0</td>\n",
       "      <td>0.0</td>\n",
       "      <td>0.0</td>\n",
       "      <td>0.0</td>\n",
       "      <td>0.0</td>\n",
       "      <td>0.0</td>\n",
       "    </tr>\n",
       "    <tr>\n",
       "      <th>2178</th>\n",
       "      <td>0.0</td>\n",
       "      <td>0.0</td>\n",
       "      <td>0.0</td>\n",
       "      <td>0.0</td>\n",
       "      <td>0.0</td>\n",
       "      <td>0.0</td>\n",
       "      <td>0.0</td>\n",
       "      <td>0.0</td>\n",
       "      <td>0.0</td>\n",
       "      <td>0.0</td>\n",
       "      <td>...</td>\n",
       "      <td>0.0</td>\n",
       "      <td>0.0</td>\n",
       "      <td>0.0</td>\n",
       "      <td>0.0</td>\n",
       "      <td>0.0</td>\n",
       "      <td>0.0</td>\n",
       "      <td>0.0</td>\n",
       "      <td>0.0</td>\n",
       "      <td>0.0</td>\n",
       "      <td>0.0</td>\n",
       "    </tr>\n",
       "    <tr>\n",
       "      <th>2179</th>\n",
       "      <td>0.0</td>\n",
       "      <td>0.0</td>\n",
       "      <td>0.0</td>\n",
       "      <td>0.0</td>\n",
       "      <td>0.0</td>\n",
       "      <td>0.0</td>\n",
       "      <td>0.0</td>\n",
       "      <td>0.0</td>\n",
       "      <td>0.0</td>\n",
       "      <td>0.0</td>\n",
       "      <td>...</td>\n",
       "      <td>0.0</td>\n",
       "      <td>0.0</td>\n",
       "      <td>0.0</td>\n",
       "      <td>0.0</td>\n",
       "      <td>0.0</td>\n",
       "      <td>0.0</td>\n",
       "      <td>0.0</td>\n",
       "      <td>7.0</td>\n",
       "      <td>0.0</td>\n",
       "      <td>0.0</td>\n",
       "    </tr>\n",
       "    <tr>\n",
       "      <th>2180</th>\n",
       "      <td>0.0</td>\n",
       "      <td>0.0</td>\n",
       "      <td>0.0</td>\n",
       "      <td>0.0</td>\n",
       "      <td>0.0</td>\n",
       "      <td>0.0</td>\n",
       "      <td>0.0</td>\n",
       "      <td>0.0</td>\n",
       "      <td>0.0</td>\n",
       "      <td>0.0</td>\n",
       "      <td>...</td>\n",
       "      <td>0.0</td>\n",
       "      <td>0.0</td>\n",
       "      <td>0.0</td>\n",
       "      <td>0.0</td>\n",
       "      <td>0.0</td>\n",
       "      <td>0.0</td>\n",
       "      <td>0.0</td>\n",
       "      <td>0.0</td>\n",
       "      <td>0.0</td>\n",
       "      <td>0.0</td>\n",
       "    </tr>\n",
       "    <tr>\n",
       "      <th>2181</th>\n",
       "      <td>0.0</td>\n",
       "      <td>0.0</td>\n",
       "      <td>0.0</td>\n",
       "      <td>0.0</td>\n",
       "      <td>0.0</td>\n",
       "      <td>0.0</td>\n",
       "      <td>0.0</td>\n",
       "      <td>0.0</td>\n",
       "      <td>0.0</td>\n",
       "      <td>0.0</td>\n",
       "      <td>...</td>\n",
       "      <td>0.0</td>\n",
       "      <td>0.0</td>\n",
       "      <td>0.0</td>\n",
       "      <td>0.0</td>\n",
       "      <td>0.0</td>\n",
       "      <td>0.0</td>\n",
       "      <td>0.0</td>\n",
       "      <td>0.0</td>\n",
       "      <td>0.0</td>\n",
       "      <td>0.0</td>\n",
       "    </tr>\n",
       "  </tbody>\n",
       "</table>\n",
       "<p>2182 rows × 9659 columns</p>\n",
       "</div>"
      ],
      "text/plain": [
       "Book_Title   Jason, Madison &amp   Other Stories;Merril;1985;McClelland &amp  \\\n",
       "0                            0.0                                         0.0   \n",
       "1                            0.0                                         0.0   \n",
       "2                            0.0                                         0.0   \n",
       "3                            0.0                                         0.0   \n",
       "4                            0.0                                         0.0   \n",
       "...                          ...                                         ...   \n",
       "2177                         0.0                                         0.0   \n",
       "2178                         0.0                                         0.0   \n",
       "2179                         0.0                                         0.0   \n",
       "2180                         0.0                                         0.0   \n",
       "2181                         0.0                                         0.0   \n",
       "\n",
       "Book_Title   Repairing PC Drives &amp  '48  \\\n",
       "0                                 0.0  0.0   \n",
       "1                                 0.0  0.0   \n",
       "2                                 0.0  0.0   \n",
       "3                                 0.0  0.0   \n",
       "4                                 0.0  0.0   \n",
       "...                               ...  ...   \n",
       "2177                              0.0  0.0   \n",
       "2178                              0.0  0.0   \n",
       "2179                              0.0  0.0   \n",
       "2180                              0.0  0.0   \n",
       "2181                              0.0  0.0   \n",
       "\n",
       "Book_Title  'O Au No Keia: Voices from Hawai'I's Mahu and Transgender Communities  \\\n",
       "0                                                         0.0                       \n",
       "1                                                         0.0                       \n",
       "2                                                         0.0                       \n",
       "3                                                         0.0                       \n",
       "4                                                         0.0                       \n",
       "...                                                       ...                       \n",
       "2177                                                      0.0                       \n",
       "2178                                                      0.0                       \n",
       "2179                                                      0.0                       \n",
       "2180                                                      0.0                       \n",
       "2181                                                      0.0                       \n",
       "\n",
       "Book_Title  ...AND THE HORSE HE RODE IN ON : THE PEOPLE V. KENNETH STARR  \\\n",
       "0                                                         0.0              \n",
       "1                                                         0.0              \n",
       "2                                                         0.0              \n",
       "3                                                         0.0              \n",
       "4                                                         0.0              \n",
       "...                                                       ...              \n",
       "2177                                                      0.0              \n",
       "2178                                                      0.0              \n",
       "2179                                                      0.0              \n",
       "2180                                                      0.0              \n",
       "2181                                                      0.0              \n",
       "\n",
       "Book_Title  01-01-00: A Novel of the Millennium  \\\n",
       "0                                           0.0   \n",
       "1                                           0.0   \n",
       "2                                           0.0   \n",
       "3                                           0.0   \n",
       "4                                           0.0   \n",
       "...                                         ...   \n",
       "2177                                        0.0   \n",
       "2178                                        0.0   \n",
       "2179                                        0.0   \n",
       "2180                                        0.0   \n",
       "2181                                        0.0   \n",
       "\n",
       "Book_Title  1,401 More Things That P*Ss Me Off  10 Commandments Of Dating  \\\n",
       "0                                          0.0                        0.0   \n",
       "1                                          0.0                        0.0   \n",
       "2                                          0.0                        0.0   \n",
       "3                                          0.0                        0.0   \n",
       "4                                          0.0                        0.0   \n",
       "...                                        ...                        ...   \n",
       "2177                                       0.0                        0.0   \n",
       "2178                                       0.0                        0.0   \n",
       "2179                                       0.0                        0.0   \n",
       "2180                                       0.0                        0.0   \n",
       "2181                                       0.0                        0.0   \n",
       "\n",
       "Book_Title  100 Great Fantasy Short, Short Stories  ...  \\\n",
       "0                                              0.0  ...   \n",
       "1                                              0.0  ...   \n",
       "2                                              0.0  ...   \n",
       "3                                              0.0  ...   \n",
       "4                                              0.0  ...   \n",
       "...                                            ...  ...   \n",
       "2177                                           0.0  ...   \n",
       "2178                                           0.0  ...   \n",
       "2179                                           0.0  ...   \n",
       "2180                                           0.0  ...   \n",
       "2181                                           0.0  ...   \n",
       "\n",
       "Book_Title  Zora Hurston and the Chinaberry Tree (Reading Rainbow Book)  \\\n",
       "0                                                         0.0             \n",
       "1                                                         0.0             \n",
       "2                                                         0.0             \n",
       "3                                                         0.0             \n",
       "4                                                         0.0             \n",
       "...                                                       ...             \n",
       "2177                                                      0.0             \n",
       "2178                                                      0.0             \n",
       "2179                                                      0.0             \n",
       "2180                                                      0.0             \n",
       "2181                                                      0.0             \n",
       "\n",
       "Book_Title  \\Even Monkeys Fall from Trees\\ and Other Japanese Proverbs  \\\n",
       "0                                                         0.0            \n",
       "1                                                         0.0            \n",
       "2                                                         0.0            \n",
       "3                                                         0.0            \n",
       "4                                                         0.0            \n",
       "...                                                       ...            \n",
       "2177                                                      0.0            \n",
       "2178                                                      0.0            \n",
       "2179                                                      0.0            \n",
       "2180                                                      0.0            \n",
       "2181                                                      0.0            \n",
       "\n",
       "Book_Title  \\I Won't Learn from You\\: And Other Thoughts on Creative Maladjustment  \\\n",
       "0                                                         0.0                        \n",
       "1                                                         0.0                        \n",
       "2                                                         0.0                        \n",
       "3                                                         0.0                        \n",
       "4                                                         0.0                        \n",
       "...                                                       ...                        \n",
       "2177                                                      0.0                        \n",
       "2178                                                      0.0                        \n",
       "2179                                                      0.0                        \n",
       "2180                                                      0.0                        \n",
       "2181                                                      0.0                        \n",
       "\n",
       "Book_Title  \\More More More,\\ Said the Baby  \\O\\ Is for Outlaw  \\\n",
       "0                                       0.0                0.0   \n",
       "1                                       0.0                0.0   \n",
       "2                                       0.0                0.0   \n",
       "3                                       0.0                0.0   \n",
       "4                                       0.0                0.0   \n",
       "...                                     ...                ...   \n",
       "2177                                    0.0                0.0   \n",
       "2178                                    0.0                0.0   \n",
       "2179                                    0.0                0.0   \n",
       "2180                                    0.0                0.0   \n",
       "2181                                    0.0                0.0   \n",
       "\n",
       "Book_Title  \\Surely You're Joking, Mr. Feynman!\\: Adventures of a Curious Character  \\\n",
       "0                                                         0.0                         \n",
       "1                                                         0.0                         \n",
       "2                                                         0.0                         \n",
       "3                                                         0.0                         \n",
       "4                                                         0.0                         \n",
       "...                                                       ...                         \n",
       "2177                                                      0.0                         \n",
       "2178                                                      0.0                         \n",
       "2179                                                      0.0                         \n",
       "2180                                                      0.0                         \n",
       "2181                                                      0.0                         \n",
       "\n",
       "Book_Title  \\Well, there's your problem\\: Cartoons  iI Paradiso Degli Orchi  \\\n",
       "0                                              0.0                      0.0   \n",
       "1                                              0.0                      0.0   \n",
       "2                                              0.0                      0.0   \n",
       "3                                              0.0                      0.0   \n",
       "4                                              0.0                      0.0   \n",
       "...                                            ...                      ...   \n",
       "2177                                           0.0                      0.0   \n",
       "2178                                           0.0                      0.0   \n",
       "2179                                           0.0                      7.0   \n",
       "2180                                           0.0                      0.0   \n",
       "2181                                           0.0                      0.0   \n",
       "\n",
       "Book_Title  stardust  Ã?Â?bermorgen.  \n",
       "0                0.0             0.0  \n",
       "1                0.0             0.0  \n",
       "2                0.0             0.0  \n",
       "3                0.0             0.0  \n",
       "4                0.0             0.0  \n",
       "...              ...             ...  \n",
       "2177             0.0             0.0  \n",
       "2178             0.0             0.0  \n",
       "2179             0.0             0.0  \n",
       "2180             0.0             0.0  \n",
       "2181             0.0             0.0  \n",
       "\n",
       "[2182 rows x 9659 columns]"
      ]
     },
     "execution_count": 16,
     "metadata": {},
     "output_type": "execute_result"
    }
   ],
   "source": [
    "book_df.fillna(0, inplace=True)\n",
    "book_df"
   ]
  },
  {
   "cell_type": "markdown",
   "id": "cb7e1ea2",
   "metadata": {},
   "source": [
    "#####  One of the most basic metrics we can think of is the ranking to decide which top 250 books are based on their respective ratings."
   ]
  },
  {
   "cell_type": "markdown",
   "id": "763968fa",
   "metadata": {},
   "source": [
    "## Computing Average rating of books"
   ]
  },
  {
   "cell_type": "code",
   "execution_count": 17,
   "id": "971e51f2",
   "metadata": {
    "ExecuteTime": {
     "end_time": "2021-12-15T16:12:39.848340Z",
     "start_time": "2021-12-15T16:12:39.831299Z"
    }
   },
   "outputs": [
    {
     "name": "stdout",
     "output_type": "stream",
     "text": [
      "7.5663\n"
     ]
    }
   ],
   "source": [
    "AVG = df['Book_Rating'].mean()\n",
    "print(AVG)"
   ]
  },
  {
   "cell_type": "markdown",
   "id": "961bf810",
   "metadata": {},
   "source": [
    "#### Next, let's calculate the number of ratings received by a book in the 90th percentile. The pandas library makes this task extremely trivial using the .quantile() method of pandas:"
   ]
  },
  {
   "cell_type": "code",
   "execution_count": 18,
   "id": "6bcd21a3",
   "metadata": {
    "ExecuteTime": {
     "end_time": "2021-12-15T16:13:27.636996Z",
     "start_time": "2021-12-15T16:13:27.614032Z"
    }
   },
   "outputs": [
    {
     "name": "stdout",
     "output_type": "stream",
     "text": [
      "10.0\n"
     ]
    }
   ],
   "source": [
    "# Calculate the minimum number of votes required to be in the chart, \n",
    "minimum = data['Book_Rating'].quantile(0.90)\n",
    "print(minimum)"
   ]
  },
  {
   "cell_type": "code",
   "execution_count": 19,
   "id": "d1763705",
   "metadata": {
    "ExecuteTime": {
     "end_time": "2021-12-15T16:13:53.889187Z",
     "start_time": "2021-12-15T16:13:53.877906Z"
    }
   },
   "outputs": [
    {
     "data": {
      "text/plain": [
       "(1732, 3)"
      ]
     },
     "execution_count": 19,
     "metadata": {},
     "output_type": "execute_result"
    }
   ],
   "source": [
    "# Filter out all qualified Books into a new DataFrame\n",
    "q_Books = data.copy().loc[data['Book_Rating'] >= minimum]\n",
    "q_Books.shape"
   ]
  },
  {
   "cell_type": "code",
   "execution_count": 20,
   "id": "021cd229",
   "metadata": {
    "ExecuteTime": {
     "end_time": "2021-12-15T16:14:21.172949Z",
     "start_time": "2021-12-15T16:14:10.252929Z"
    }
   },
   "outputs": [],
   "source": [
    "#Calculating Cosine Similarity between Users\n",
    "from sklearn.metrics import pairwise_distances\n",
    "from scipy.spatial.distance import cosine, correlation"
   ]
  },
  {
   "cell_type": "code",
   "execution_count": 21,
   "id": "5af72e9c",
   "metadata": {
    "ExecuteTime": {
     "end_time": "2021-12-15T16:14:38.047673Z",
     "start_time": "2021-12-15T16:14:36.241154Z"
    }
   },
   "outputs": [
    {
     "data": {
      "text/plain": [
       "(2182, 2182)"
      ]
     },
     "execution_count": 21,
     "metadata": {},
     "output_type": "execute_result"
    }
   ],
   "source": [
    "uc_sim = 1 - pairwise_distances( book_df.values,metric='cosine')\n",
    "uc_sim.shape"
   ]
  },
  {
   "cell_type": "code",
   "execution_count": 22,
   "id": "905d7f2b",
   "metadata": {
    "ExecuteTime": {
     "end_time": "2021-12-15T16:14:44.369217Z",
     "start_time": "2021-12-15T16:14:44.357250Z"
    }
   },
   "outputs": [
    {
     "data": {
      "text/plain": [
       "array([0., 1., 0., ..., 0., 0., 0.])"
      ]
     },
     "execution_count": 22,
     "metadata": {},
     "output_type": "execute_result"
    }
   ],
   "source": [
    "uc_sim[1]"
   ]
  },
  {
   "cell_type": "code",
   "execution_count": 23,
   "id": "da3a46d1",
   "metadata": {
    "ExecuteTime": {
     "end_time": "2021-12-15T16:15:02.293459Z",
     "start_time": "2021-12-15T16:15:02.283486Z"
    }
   },
   "outputs": [],
   "source": [
    "#Store the results in a dataframe\n",
    "uc_sim_df = pd.DataFrame(uc_sim)\n",
    "uc_sim_df.index = df.ID.unique()\n",
    "uc_sim_df.columns = df.ID.unique()"
   ]
  },
  {
   "cell_type": "code",
   "execution_count": 24,
   "id": "fbf0cd00",
   "metadata": {
    "ExecuteTime": {
     "end_time": "2021-12-15T16:15:17.210496Z",
     "start_time": "2021-12-15T16:15:17.170935Z"
    }
   },
   "outputs": [
    {
     "data": {
      "text/html": [
       "<div>\n",
       "<style scoped>\n",
       "    .dataframe tbody tr th:only-of-type {\n",
       "        vertical-align: middle;\n",
       "    }\n",
       "\n",
       "    .dataframe tbody tr th {\n",
       "        vertical-align: top;\n",
       "    }\n",
       "\n",
       "    .dataframe thead th {\n",
       "        text-align: right;\n",
       "    }\n",
       "</style>\n",
       "<table border=\"1\" class=\"dataframe\">\n",
       "  <thead>\n",
       "    <tr style=\"text-align: right;\">\n",
       "      <th></th>\n",
       "      <th>276726</th>\n",
       "      <th>276729</th>\n",
       "      <th>276736</th>\n",
       "      <th>276737</th>\n",
       "      <th>276744</th>\n",
       "      <th>276745</th>\n",
       "      <th>276747</th>\n",
       "      <th>276748</th>\n",
       "      <th>276751</th>\n",
       "      <th>276754</th>\n",
       "    </tr>\n",
       "  </thead>\n",
       "  <tbody>\n",
       "    <tr>\n",
       "      <th>276726</th>\n",
       "      <td>1.0</td>\n",
       "      <td>0.0</td>\n",
       "      <td>0.0</td>\n",
       "      <td>0.0</td>\n",
       "      <td>0.0</td>\n",
       "      <td>0.0</td>\n",
       "      <td>0.0</td>\n",
       "      <td>0.0</td>\n",
       "      <td>0.0</td>\n",
       "      <td>0.0</td>\n",
       "    </tr>\n",
       "    <tr>\n",
       "      <th>276729</th>\n",
       "      <td>0.0</td>\n",
       "      <td>1.0</td>\n",
       "      <td>0.0</td>\n",
       "      <td>0.0</td>\n",
       "      <td>0.0</td>\n",
       "      <td>0.0</td>\n",
       "      <td>0.0</td>\n",
       "      <td>0.0</td>\n",
       "      <td>0.0</td>\n",
       "      <td>0.0</td>\n",
       "    </tr>\n",
       "    <tr>\n",
       "      <th>276736</th>\n",
       "      <td>0.0</td>\n",
       "      <td>0.0</td>\n",
       "      <td>1.0</td>\n",
       "      <td>0.0</td>\n",
       "      <td>0.0</td>\n",
       "      <td>0.0</td>\n",
       "      <td>0.0</td>\n",
       "      <td>0.0</td>\n",
       "      <td>0.0</td>\n",
       "      <td>0.0</td>\n",
       "    </tr>\n",
       "    <tr>\n",
       "      <th>276737</th>\n",
       "      <td>0.0</td>\n",
       "      <td>0.0</td>\n",
       "      <td>0.0</td>\n",
       "      <td>1.0</td>\n",
       "      <td>0.0</td>\n",
       "      <td>0.0</td>\n",
       "      <td>0.0</td>\n",
       "      <td>0.0</td>\n",
       "      <td>0.0</td>\n",
       "      <td>0.0</td>\n",
       "    </tr>\n",
       "    <tr>\n",
       "      <th>276744</th>\n",
       "      <td>0.0</td>\n",
       "      <td>0.0</td>\n",
       "      <td>0.0</td>\n",
       "      <td>0.0</td>\n",
       "      <td>1.0</td>\n",
       "      <td>0.0</td>\n",
       "      <td>0.0</td>\n",
       "      <td>0.0</td>\n",
       "      <td>0.0</td>\n",
       "      <td>0.0</td>\n",
       "    </tr>\n",
       "    <tr>\n",
       "      <th>276745</th>\n",
       "      <td>0.0</td>\n",
       "      <td>0.0</td>\n",
       "      <td>0.0</td>\n",
       "      <td>0.0</td>\n",
       "      <td>0.0</td>\n",
       "      <td>1.0</td>\n",
       "      <td>0.0</td>\n",
       "      <td>0.0</td>\n",
       "      <td>0.0</td>\n",
       "      <td>0.0</td>\n",
       "    </tr>\n",
       "    <tr>\n",
       "      <th>276747</th>\n",
       "      <td>0.0</td>\n",
       "      <td>0.0</td>\n",
       "      <td>0.0</td>\n",
       "      <td>0.0</td>\n",
       "      <td>0.0</td>\n",
       "      <td>0.0</td>\n",
       "      <td>1.0</td>\n",
       "      <td>0.0</td>\n",
       "      <td>0.0</td>\n",
       "      <td>0.0</td>\n",
       "    </tr>\n",
       "    <tr>\n",
       "      <th>276748</th>\n",
       "      <td>0.0</td>\n",
       "      <td>0.0</td>\n",
       "      <td>0.0</td>\n",
       "      <td>0.0</td>\n",
       "      <td>0.0</td>\n",
       "      <td>0.0</td>\n",
       "      <td>0.0</td>\n",
       "      <td>1.0</td>\n",
       "      <td>0.0</td>\n",
       "      <td>0.0</td>\n",
       "    </tr>\n",
       "    <tr>\n",
       "      <th>276751</th>\n",
       "      <td>0.0</td>\n",
       "      <td>0.0</td>\n",
       "      <td>0.0</td>\n",
       "      <td>0.0</td>\n",
       "      <td>0.0</td>\n",
       "      <td>0.0</td>\n",
       "      <td>0.0</td>\n",
       "      <td>0.0</td>\n",
       "      <td>1.0</td>\n",
       "      <td>0.0</td>\n",
       "    </tr>\n",
       "    <tr>\n",
       "      <th>276754</th>\n",
       "      <td>0.0</td>\n",
       "      <td>0.0</td>\n",
       "      <td>0.0</td>\n",
       "      <td>0.0</td>\n",
       "      <td>0.0</td>\n",
       "      <td>0.0</td>\n",
       "      <td>0.0</td>\n",
       "      <td>0.0</td>\n",
       "      <td>0.0</td>\n",
       "      <td>1.0</td>\n",
       "    </tr>\n",
       "  </tbody>\n",
       "</table>\n",
       "</div>"
      ],
      "text/plain": [
       "        276726  276729  276736  276737  276744  276745  276747  276748  \\\n",
       "276726     1.0     0.0     0.0     0.0     0.0     0.0     0.0     0.0   \n",
       "276729     0.0     1.0     0.0     0.0     0.0     0.0     0.0     0.0   \n",
       "276736     0.0     0.0     1.0     0.0     0.0     0.0     0.0     0.0   \n",
       "276737     0.0     0.0     0.0     1.0     0.0     0.0     0.0     0.0   \n",
       "276744     0.0     0.0     0.0     0.0     1.0     0.0     0.0     0.0   \n",
       "276745     0.0     0.0     0.0     0.0     0.0     1.0     0.0     0.0   \n",
       "276747     0.0     0.0     0.0     0.0     0.0     0.0     1.0     0.0   \n",
       "276748     0.0     0.0     0.0     0.0     0.0     0.0     0.0     1.0   \n",
       "276751     0.0     0.0     0.0     0.0     0.0     0.0     0.0     0.0   \n",
       "276754     0.0     0.0     0.0     0.0     0.0     0.0     0.0     0.0   \n",
       "\n",
       "        276751  276754  \n",
       "276726     0.0     0.0  \n",
       "276729     0.0     0.0  \n",
       "276736     0.0     0.0  \n",
       "276737     0.0     0.0  \n",
       "276744     0.0     0.0  \n",
       "276745     0.0     0.0  \n",
       "276747     0.0     0.0  \n",
       "276748     0.0     0.0  \n",
       "276751     1.0     0.0  \n",
       "276754     0.0     1.0  "
      ]
     },
     "execution_count": 24,
     "metadata": {},
     "output_type": "execute_result"
    }
   ],
   "source": [
    "uc_sim_df.iloc[0:10, 0:10]"
   ]
  },
  {
   "cell_type": "code",
   "execution_count": 25,
   "id": "0ff6b35b",
   "metadata": {
    "ExecuteTime": {
     "end_time": "2021-12-15T16:15:42.322306Z",
     "start_time": "2021-12-15T16:15:42.269315Z"
    }
   },
   "outputs": [
    {
     "data": {
      "text/plain": [
       "276726    276726\n",
       "276729    276729\n",
       "276736    276736\n",
       "276737    276737\n",
       "276744    276744\n",
       "           ...  \n",
       "277139    277139\n",
       "277143    277143\n",
       "277157    277157\n",
       "277159    277159\n",
       "277165    277165\n",
       "Length: 125, dtype: int64"
      ]
     },
     "execution_count": 25,
     "metadata": {},
     "output_type": "execute_result"
    }
   ],
   "source": [
    "uc_sim_df.idxmax(axis=1)[0:125]"
   ]
  },
  {
   "cell_type": "code",
   "execution_count": 26,
   "id": "c208573b",
   "metadata": {
    "ExecuteTime": {
     "end_time": "2021-12-15T16:15:58.350702Z",
     "start_time": "2021-12-15T16:15:58.323774Z"
    }
   },
   "outputs": [
    {
     "data": {
      "text/html": [
       "<div>\n",
       "<style scoped>\n",
       "    .dataframe tbody tr th:only-of-type {\n",
       "        vertical-align: middle;\n",
       "    }\n",
       "\n",
       "    .dataframe tbody tr th {\n",
       "        vertical-align: top;\n",
       "    }\n",
       "\n",
       "    .dataframe thead th {\n",
       "        text-align: right;\n",
       "    }\n",
       "</style>\n",
       "<table border=\"1\" class=\"dataframe\">\n",
       "  <thead>\n",
       "    <tr style=\"text-align: right;\">\n",
       "      <th></th>\n",
       "      <th>ID</th>\n",
       "      <th>Book_Title</th>\n",
       "      <th>Book_Rating</th>\n",
       "    </tr>\n",
       "  </thead>\n",
       "  <tbody>\n",
       "    <tr>\n",
       "      <th>0</th>\n",
       "      <td>276726</td>\n",
       "      <td>Classical Mythology</td>\n",
       "      <td>5</td>\n",
       "    </tr>\n",
       "    <tr>\n",
       "      <th>2413</th>\n",
       "      <td>17</td>\n",
       "      <td>Conversations With Dogbert: A Dilbert Book</td>\n",
       "      <td>7</td>\n",
       "    </tr>\n",
       "    <tr>\n",
       "      <th>2414</th>\n",
       "      <td>17</td>\n",
       "      <td>The Dilbert Bunch: A Dilbert Book (Main Street...</td>\n",
       "      <td>5</td>\n",
       "    </tr>\n",
       "    <tr>\n",
       "      <th>2415</th>\n",
       "      <td>17</td>\n",
       "      <td>You Don't Need Experience if You've Got Attitude</td>\n",
       "      <td>6</td>\n",
       "    </tr>\n",
       "    <tr>\n",
       "      <th>2416</th>\n",
       "      <td>17</td>\n",
       "      <td>The Boss: Nameless, Blameless and Shameless (A...</td>\n",
       "      <td>3</td>\n",
       "    </tr>\n",
       "  </tbody>\n",
       "</table>\n",
       "</div>"
      ],
      "text/plain": [
       "          ID                                         Book_Title  Book_Rating\n",
       "0     276726                                Classical Mythology            5\n",
       "2413      17         Conversations With Dogbert: A Dilbert Book            7\n",
       "2414      17  The Dilbert Bunch: A Dilbert Book (Main Street...            5\n",
       "2415      17   You Don't Need Experience if You've Got Attitude            6\n",
       "2416      17  The Boss: Nameless, Blameless and Shameless (A...            3"
      ]
     },
     "execution_count": 26,
     "metadata": {},
     "output_type": "execute_result"
    }
   ],
   "source": [
    "users=df[(df['ID']==276726) | (df['ID']==17)]\n",
    "users"
   ]
  },
  {
   "cell_type": "code",
   "execution_count": 27,
   "id": "1c212e4a",
   "metadata": {
    "ExecuteTime": {
     "end_time": "2021-12-15T16:16:14.323109Z",
     "start_time": "2021-12-15T16:16:14.306153Z"
    }
   },
   "outputs": [
    {
     "data": {
      "text/html": [
       "<div>\n",
       "<style scoped>\n",
       "    .dataframe tbody tr th:only-of-type {\n",
       "        vertical-align: middle;\n",
       "    }\n",
       "\n",
       "    .dataframe tbody tr th {\n",
       "        vertical-align: top;\n",
       "    }\n",
       "\n",
       "    .dataframe thead th {\n",
       "        text-align: right;\n",
       "    }\n",
       "</style>\n",
       "<table border=\"1\" class=\"dataframe\">\n",
       "  <thead>\n",
       "    <tr style=\"text-align: right;\">\n",
       "      <th></th>\n",
       "      <th>ID</th>\n",
       "      <th>Book_Title</th>\n",
       "      <th>Book_Rating</th>\n",
       "    </tr>\n",
       "  </thead>\n",
       "  <tbody>\n",
       "    <tr>\n",
       "      <th>0</th>\n",
       "      <td>276726</td>\n",
       "      <td>Classical Mythology</td>\n",
       "      <td>5</td>\n",
       "    </tr>\n",
       "  </tbody>\n",
       "</table>\n",
       "</div>"
      ],
      "text/plain": [
       "       ID           Book_Title  Book_Rating\n",
       "0  276726  Classical Mythology            5"
      ]
     },
     "execution_count": 27,
     "metadata": {},
     "output_type": "execute_result"
    }
   ],
   "source": [
    "user_1=df[(df['ID']==276726)] \n",
    "user_1"
   ]
  },
  {
   "cell_type": "code",
   "execution_count": 28,
   "id": "c3643743",
   "metadata": {
    "ExecuteTime": {
     "end_time": "2021-12-15T16:16:33.759058Z",
     "start_time": "2021-12-15T16:16:33.737117Z"
    }
   },
   "outputs": [
    {
     "data": {
      "text/html": [
       "<div>\n",
       "<style scoped>\n",
       "    .dataframe tbody tr th:only-of-type {\n",
       "        vertical-align: middle;\n",
       "    }\n",
       "\n",
       "    .dataframe tbody tr th {\n",
       "        vertical-align: top;\n",
       "    }\n",
       "\n",
       "    .dataframe thead th {\n",
       "        text-align: right;\n",
       "    }\n",
       "</style>\n",
       "<table border=\"1\" class=\"dataframe\">\n",
       "  <thead>\n",
       "    <tr style=\"text-align: right;\">\n",
       "      <th></th>\n",
       "      <th>ID</th>\n",
       "      <th>Book_Title</th>\n",
       "      <th>Book_Rating</th>\n",
       "    </tr>\n",
       "  </thead>\n",
       "  <tbody>\n",
       "    <tr>\n",
       "      <th>2413</th>\n",
       "      <td>17</td>\n",
       "      <td>Conversations With Dogbert: A Dilbert Book</td>\n",
       "      <td>7</td>\n",
       "    </tr>\n",
       "    <tr>\n",
       "      <th>2414</th>\n",
       "      <td>17</td>\n",
       "      <td>The Dilbert Bunch: A Dilbert Book (Main Street...</td>\n",
       "      <td>5</td>\n",
       "    </tr>\n",
       "    <tr>\n",
       "      <th>2415</th>\n",
       "      <td>17</td>\n",
       "      <td>You Don't Need Experience if You've Got Attitude</td>\n",
       "      <td>6</td>\n",
       "    </tr>\n",
       "    <tr>\n",
       "      <th>2416</th>\n",
       "      <td>17</td>\n",
       "      <td>The Boss: Nameless, Blameless and Shameless (A...</td>\n",
       "      <td>3</td>\n",
       "    </tr>\n",
       "  </tbody>\n",
       "</table>\n",
       "</div>"
      ],
      "text/plain": [
       "      ID                                         Book_Title  Book_Rating\n",
       "2413  17         Conversations With Dogbert: A Dilbert Book            7\n",
       "2414  17  The Dilbert Bunch: A Dilbert Book (Main Street...            5\n",
       "2415  17   You Don't Need Experience if You've Got Attitude            6\n",
       "2416  17  The Boss: Nameless, Blameless and Shameless (A...            3"
      ]
     },
     "execution_count": 28,
     "metadata": {},
     "output_type": "execute_result"
    }
   ],
   "source": [
    "user_2=df[(df['ID']==17)] \n",
    "user_2"
   ]
  },
  {
   "cell_type": "code",
   "execution_count": 29,
   "id": "4bb6a42f",
   "metadata": {
    "ExecuteTime": {
     "end_time": "2021-12-15T16:16:47.834292Z",
     "start_time": "2021-12-15T16:16:47.800904Z"
    }
   },
   "outputs": [],
   "source": [
    "indices = pd.Series(df.index, index=df['Book_Title']).drop_duplicates()"
   ]
  },
  {
   "cell_type": "code",
   "execution_count": 30,
   "id": "79c26bf1",
   "metadata": {
    "ExecuteTime": {
     "end_time": "2021-12-15T16:17:01.171300Z",
     "start_time": "2021-12-15T16:17:01.157788Z"
    }
   },
   "outputs": [
    {
     "data": {
      "text/plain": [
       "Book_Title\n",
       "Classical Mythology                                                                                   0\n",
       "Clara Callan                                                                                          1\n",
       "Decision in Normandy                                                                                  2\n",
       "Flu: The Story of the Great Influenza Pandemic of 1918 and the Search for the Virus That Caused It    3\n",
       "The Mummies of Urumchi                                                                                4\n",
       "The Kitchen God's Wife                                                                                5\n",
       "What If?: The World's Foremost Military Historians Imagine What Might Have Been                       6\n",
       "PLEADING GUILTY                                                                                       7\n",
       "Under the Black Flag: The Romance and the Reality of Life Among the Pirates                           8\n",
       "Where You'll Find Me: And Other Stories                                                               9\n",
       "dtype: int64"
      ]
     },
     "execution_count": 30,
     "metadata": {},
     "output_type": "execute_result"
    }
   ],
   "source": [
    "indices[:10]"
   ]
  },
  {
   "cell_type": "code",
   "execution_count": 31,
   "id": "a41e28a1",
   "metadata": {
    "ExecuteTime": {
     "end_time": "2021-12-15T16:17:21.753106Z",
     "start_time": "2021-12-15T16:17:21.733624Z"
    }
   },
   "outputs": [],
   "source": [
    "# Function that takes in movie title as input and outputs most similar movies\n",
    "def get_recommendations(Book_Title, cosine_sim=uc_sim):\n",
    "    # Get the index of the books that matches the title\n",
    "    idx = indices[Book_Title]\n",
    "\n",
    "    # Get the pairwsie similarity scores of all books with that books\n",
    "    sim_scores = list(enumerate(cosine_sim[idx]))\n",
    "\n",
    "    # Sort the books based on the similarity scores\n",
    "    sim_scores = sorted(sim_scores, key=lambda x: x[1], reverse=True)\n",
    "\n",
    "    # Get the scores of the 10 most similar books\n",
    "    sim_scores = sim_scores[0:11]\n",
    "\n",
    "    # Get the book indices\n",
    "    books_indices = [i[0] for i in sim_scores]\n",
    "\n",
    "    # Return the top 10 most similar books\n",
    "    return df['Book_Title'].iloc[books_indices]"
   ]
  },
  {
   "cell_type": "code",
   "execution_count": 32,
   "id": "aed7c2ad",
   "metadata": {
    "ExecuteTime": {
     "end_time": "2021-12-15T16:17:37.927617Z",
     "start_time": "2021-12-15T16:17:37.907672Z"
    }
   },
   "outputs": [
    {
     "data": {
      "text/plain": [
       "8     Under the Black Flag: The Romance and the Real...\n",
       "0                                   Classical Mythology\n",
       "1                                          Clara Callan\n",
       "2                                  Decision in Normandy\n",
       "3     Flu: The Story of the Great Influenza Pandemic...\n",
       "4                                The Mummies of Urumchi\n",
       "5                                The Kitchen God's Wife\n",
       "6     What If?: The World's Foremost Military Histor...\n",
       "7                                       PLEADING GUILTY\n",
       "9               Where You'll Find Me: And Other Stories\n",
       "10                          Nights Below Station Street\n",
       "Name: Book_Title, dtype: object"
      ]
     },
     "execution_count": 32,
     "metadata": {},
     "output_type": "execute_result"
    }
   ],
   "source": [
    "a=get_recommendations('Under the Black Flag: The Romance and the Reality of Life Among the Pirates')\n",
    "a"
   ]
  },
  {
   "cell_type": "code",
   "execution_count": 33,
   "id": "e3e0524f",
   "metadata": {
    "ExecuteTime": {
     "end_time": "2021-12-15T16:18:03.849099Z",
     "start_time": "2021-12-15T16:18:03.836133Z"
    }
   },
   "outputs": [
    {
     "data": {
      "text/plain": [
       "0                                   Classical Mythology\n",
       "1                                          Clara Callan\n",
       "2                                  Decision in Normandy\n",
       "3     Flu: The Story of the Great Influenza Pandemic...\n",
       "4                                The Mummies of Urumchi\n",
       "5                                The Kitchen God's Wife\n",
       "6     What If?: The World's Foremost Military Histor...\n",
       "7                                       PLEADING GUILTY\n",
       "8     Under the Black Flag: The Romance and the Real...\n",
       "9               Where You'll Find Me: And Other Stories\n",
       "10                          Nights Below Station Street\n",
       "Name: Book_Title, dtype: object"
      ]
     },
     "execution_count": 33,
     "metadata": {},
     "output_type": "execute_result"
    }
   ],
   "source": [
    "b=get_recommendations('Classical Mythology')\n",
    "b"
   ]
  },
  {
   "cell_type": "code",
   "execution_count": 34,
   "id": "2afe5a5a",
   "metadata": {
    "ExecuteTime": {
     "end_time": "2021-12-15T16:18:19.224700Z",
     "start_time": "2021-12-15T16:18:19.093195Z"
    }
   },
   "outputs": [
    {
     "data": {
      "text/html": [
       "<div>\n",
       "<style scoped>\n",
       "    .dataframe tbody tr th:only-of-type {\n",
       "        vertical-align: middle;\n",
       "    }\n",
       "\n",
       "    .dataframe tbody tr th {\n",
       "        vertical-align: top;\n",
       "    }\n",
       "\n",
       "    .dataframe thead th {\n",
       "        text-align: right;\n",
       "    }\n",
       "</style>\n",
       "<table border=\"1\" class=\"dataframe\">\n",
       "  <thead>\n",
       "    <tr style=\"text-align: right;\">\n",
       "      <th></th>\n",
       "      <th>ID_x</th>\n",
       "      <th>Book_Title_x</th>\n",
       "      <th>Book_Rating</th>\n",
       "      <th>ID_y</th>\n",
       "      <th>Book_Title_y</th>\n",
       "    </tr>\n",
       "  </thead>\n",
       "  <tbody>\n",
       "    <tr>\n",
       "      <th>0</th>\n",
       "      <td>276726.0</td>\n",
       "      <td>Classical Mythology</td>\n",
       "      <td>5</td>\n",
       "      <td>17</td>\n",
       "      <td>The Dilbert Bunch: A Dilbert Book (Main Street...</td>\n",
       "    </tr>\n",
       "    <tr>\n",
       "      <th>1</th>\n",
       "      <td>NaN</td>\n",
       "      <td>NaN</td>\n",
       "      <td>7</td>\n",
       "      <td>17</td>\n",
       "      <td>Conversations With Dogbert: A Dilbert Book</td>\n",
       "    </tr>\n",
       "    <tr>\n",
       "      <th>2</th>\n",
       "      <td>NaN</td>\n",
       "      <td>NaN</td>\n",
       "      <td>6</td>\n",
       "      <td>17</td>\n",
       "      <td>You Don't Need Experience if You've Got Attitude</td>\n",
       "    </tr>\n",
       "    <tr>\n",
       "      <th>3</th>\n",
       "      <td>NaN</td>\n",
       "      <td>NaN</td>\n",
       "      <td>3</td>\n",
       "      <td>17</td>\n",
       "      <td>The Boss: Nameless, Blameless and Shameless (A...</td>\n",
       "    </tr>\n",
       "  </tbody>\n",
       "</table>\n",
       "</div>"
      ],
      "text/plain": [
       "       ID_x         Book_Title_x  Book_Rating  ID_y  \\\n",
       "0  276726.0  Classical Mythology            5    17   \n",
       "1       NaN                  NaN            7    17   \n",
       "2       NaN                  NaN            6    17   \n",
       "3       NaN                  NaN            3    17   \n",
       "\n",
       "                                        Book_Title_y  \n",
       "0  The Dilbert Bunch: A Dilbert Book (Main Street...  \n",
       "1         Conversations With Dogbert: A Dilbert Book  \n",
       "2   You Don't Need Experience if You've Got Attitude  \n",
       "3  The Boss: Nameless, Blameless and Shameless (A...  "
      ]
     },
     "execution_count": 34,
     "metadata": {},
     "output_type": "execute_result"
    }
   ],
   "source": [
    "pd.merge(user_1,user_2,on='Book_Rating',how='outer')"
   ]
  },
  {
   "cell_type": "code",
   "execution_count": 35,
   "id": "755612f7",
   "metadata": {
    "ExecuteTime": {
     "end_time": "2021-12-15T16:18:43.331874Z",
     "start_time": "2021-12-15T16:18:43.319910Z"
    }
   },
   "outputs": [
    {
     "data": {
      "text/plain": [
       "0       0.0\n",
       "1       0.0\n",
       "2       0.0\n",
       "3       0.0\n",
       "4       0.0\n",
       "       ... \n",
       "2177    0.0\n",
       "2178    0.0\n",
       "2179    0.0\n",
       "2180    0.0\n",
       "2181    0.0\n",
       "Name: You Don't Need Experience if You've Got Attitude, Length: 2182, dtype: float64"
      ]
     },
     "execution_count": 35,
     "metadata": {},
     "output_type": "execute_result"
    }
   ],
   "source": [
    "book_user_rating = book_df[\"You Don't Need Experience if You've Got Attitude\"]  \n",
    "book_user_rating\n"
   ]
  },
  {
   "cell_type": "code",
   "execution_count": 36,
   "id": "a9677ec2",
   "metadata": {
    "ExecuteTime": {
     "end_time": "2021-12-15T16:19:18.692466Z",
     "start_time": "2021-12-15T16:19:15.534309Z"
    }
   },
   "outputs": [],
   "source": [
    "#Finding the correlation with different movies\n",
    "similar_to_book = book_df.corrwith(book_user_rating) "
   ]
  },
  {
   "cell_type": "code",
   "execution_count": 37,
   "id": "7f2b1879",
   "metadata": {
    "ExecuteTime": {
     "end_time": "2021-12-15T16:19:31.091662Z",
     "start_time": "2021-12-15T16:19:31.073710Z"
    }
   },
   "outputs": [
    {
     "data": {
      "text/html": [
       "<div>\n",
       "<style scoped>\n",
       "    .dataframe tbody tr th:only-of-type {\n",
       "        vertical-align: middle;\n",
       "    }\n",
       "\n",
       "    .dataframe tbody tr th {\n",
       "        vertical-align: top;\n",
       "    }\n",
       "\n",
       "    .dataframe thead th {\n",
       "        text-align: right;\n",
       "    }\n",
       "</style>\n",
       "<table border=\"1\" class=\"dataframe\">\n",
       "  <thead>\n",
       "    <tr style=\"text-align: right;\">\n",
       "      <th></th>\n",
       "      <th>Correlation</th>\n",
       "    </tr>\n",
       "    <tr>\n",
       "      <th>Book_Title</th>\n",
       "      <th></th>\n",
       "    </tr>\n",
       "  </thead>\n",
       "  <tbody>\n",
       "    <tr>\n",
       "      <th>Jason, Madison &amp;amp</th>\n",
       "      <td>-0.000459</td>\n",
       "    </tr>\n",
       "    <tr>\n",
       "      <th>Other Stories;Merril;1985;McClelland &amp;amp</th>\n",
       "      <td>-0.000459</td>\n",
       "    </tr>\n",
       "    <tr>\n",
       "      <th>Repairing PC Drives &amp;amp</th>\n",
       "      <td>-0.000459</td>\n",
       "    </tr>\n",
       "    <tr>\n",
       "      <th>'48</th>\n",
       "      <td>-0.000459</td>\n",
       "    </tr>\n",
       "    <tr>\n",
       "      <th>'O Au No Keia: Voices from Hawai'I's Mahu and Transgender Communities</th>\n",
       "      <td>-0.000459</td>\n",
       "    </tr>\n",
       "  </tbody>\n",
       "</table>\n",
       "</div>"
      ],
      "text/plain": [
       "                                                    Correlation\n",
       "Book_Title                                                     \n",
       " Jason, Madison &amp                                  -0.000459\n",
       " Other Stories;Merril;1985;McClelland &amp            -0.000459\n",
       " Repairing PC Drives &amp                             -0.000459\n",
       "'48                                                   -0.000459\n",
       "'O Au No Keia: Voices from Hawai'I's Mahu and T...    -0.000459"
      ]
     },
     "execution_count": 37,
     "metadata": {},
     "output_type": "execute_result"
    }
   ],
   "source": [
    "corr_book = pd.DataFrame(similar_to_book, columns=['Correlation'])\n",
    "corr_book.dropna(inplace=True)\n",
    "corr_book.head()"
   ]
  },
  {
   "cell_type": "code",
   "execution_count": 38,
   "id": "3b620687",
   "metadata": {
    "ExecuteTime": {
     "end_time": "2021-12-15T16:19:53.080979Z",
     "start_time": "2021-12-15T16:19:53.057982Z"
    }
   },
   "outputs": [
    {
     "data": {
      "text/html": [
       "<div>\n",
       "<style scoped>\n",
       "    .dataframe tbody tr th:only-of-type {\n",
       "        vertical-align: middle;\n",
       "    }\n",
       "\n",
       "    .dataframe tbody tr th {\n",
       "        vertical-align: top;\n",
       "    }\n",
       "\n",
       "    .dataframe thead th {\n",
       "        text-align: right;\n",
       "    }\n",
       "</style>\n",
       "<table border=\"1\" class=\"dataframe\">\n",
       "  <thead>\n",
       "    <tr style=\"text-align: right;\">\n",
       "      <th></th>\n",
       "      <th>Correlation</th>\n",
       "    </tr>\n",
       "    <tr>\n",
       "      <th>Book_Title</th>\n",
       "      <th></th>\n",
       "    </tr>\n",
       "  </thead>\n",
       "  <tbody>\n",
       "    <tr>\n",
       "      <th>Conversations With Dogbert: A Dilbert Book</th>\n",
       "      <td>1.0</td>\n",
       "    </tr>\n",
       "    <tr>\n",
       "      <th>The Boss: Nameless, Blameless and Shameless (Adams, Scott, Dilbert Book,)</th>\n",
       "      <td>1.0</td>\n",
       "    </tr>\n",
       "    <tr>\n",
       "      <th>The Dilbert Bunch: A Dilbert Book (Main Street Editions)</th>\n",
       "      <td>1.0</td>\n",
       "    </tr>\n",
       "    <tr>\n",
       "      <th>You Don't Need Experience if You've Got Attitude</th>\n",
       "      <td>1.0</td>\n",
       "    </tr>\n",
       "  </tbody>\n",
       "</table>\n",
       "</div>"
      ],
      "text/plain": [
       "                                                    Correlation\n",
       "Book_Title                                                     \n",
       "Conversations With Dogbert: A Dilbert Book                  1.0\n",
       "The Boss: Nameless, Blameless and Shameless (Ad...          1.0\n",
       "The Dilbert Bunch: A Dilbert Book (Main Street ...          1.0\n",
       "You Don't Need Experience if You've Got Attitude            1.0"
      ]
     },
     "execution_count": 38,
     "metadata": {},
     "output_type": "execute_result"
    }
   ],
   "source": [
    "corr_book[corr_book['Correlation'] > 0].sort_values(by='Correlation', ascending=False).head(10)  "
   ]
  },
  {
   "cell_type": "code",
   "execution_count": 39,
   "id": "d0018bca",
   "metadata": {
    "ExecuteTime": {
     "end_time": "2021-12-15T16:20:16.365503Z",
     "start_time": "2021-12-15T16:20:16.319574Z"
    }
   },
   "outputs": [],
   "source": [
    "ratings_mean_count = pd.DataFrame(df.groupby('Book_Title')['Book_Rating'].mean())\n",
    "ratings_mean_count['rating_counts'] = pd.DataFrame(df.groupby('Book_Title')['Book_Rating'].count())"
   ]
  },
  {
   "cell_type": "code",
   "execution_count": 40,
   "id": "8ff396a0",
   "metadata": {},
   "outputs": [
    {
     "name": "stdout",
     "output_type": "stream",
     "text": [
      "['Solarize_Light2', '_classic_test_patch', '_mpl-gallery', '_mpl-gallery-nogrid', 'bmh', 'classic', 'dark_background', 'fast', 'fivethirtyeight', 'ggplot', 'grayscale', 'seaborn', 'seaborn-bright', 'seaborn-colorblind', 'seaborn-dark', 'seaborn-dark-palette', 'seaborn-darkgrid', 'seaborn-deep', 'seaborn-muted', 'seaborn-notebook', 'seaborn-paper', 'seaborn-pastel', 'seaborn-poster', 'seaborn-talk', 'seaborn-ticks', 'seaborn-white', 'seaborn-whitegrid', 'tableau-colorblind10']\n"
     ]
    }
   ],
   "source": [
    "print(plt.style.available)"
   ]
  },
  {
   "cell_type": "code",
   "execution_count": 41,
   "id": "dbf78975",
   "metadata": {
    "ExecuteTime": {
     "end_time": "2021-12-15T16:20:44.006451Z",
     "start_time": "2021-12-15T16:20:44.000467Z"
    }
   },
   "outputs": [],
   "source": [
    "plt.style.use('ggplot')"
   ]
  },
  {
   "cell_type": "code",
   "execution_count": 42,
   "id": "b9cdeb38",
   "metadata": {
    "ExecuteTime": {
     "end_time": "2021-12-15T16:21:07.372847Z",
     "start_time": "2021-12-15T16:21:04.184740Z"
    }
   },
   "outputs": [
    {
     "data": {
      "text/plain": [
       "<AxesSubplot:>"
      ]
     },
     "execution_count": 42,
     "metadata": {},
     "output_type": "execute_result"
    },
    {
     "data": {
      "image/png": "[encoded data removed]",
      "text/plain": [
       "<Figure size 576x432 with 1 Axes>"
      ]
     },
     "metadata": {
      "needs_background": "light"
     },
     "output_type": "display_data"
    }
   ],
   "source": [
    "import matplotlib.pyplot as plt\n",
    "import seaborn as sns\n",
    "%matplotlib inline\n",
    "\n",
    "plt.figure(figsize=(8,6))\n",
    "plt.rcParams['patch.force_edgecolor'] = True\n",
    "ratings_mean_count['rating_counts'].hist(bins=10)"
   ]
  },
  {
   "cell_type": "code",
   "execution_count": 43,
   "id": "87b96688",
   "metadata": {
    "ExecuteTime": {
     "end_time": "2021-12-15T16:21:36.058423Z",
     "start_time": "2021-12-15T16:21:35.868374Z"
    }
   },
   "outputs": [
    {
     "data": {
      "text/plain": [
       "<AxesSubplot:>"
      ]
     },
     "execution_count": 43,
     "metadata": {},
     "output_type": "execute_result"
    },
    {
     "data": {
      "image/png": "[encoded data removed]",
      "text/plain": [
       "<Figure size 576x432 with 1 Axes>"
      ]
     },
     "metadata": {
      "needs_background": "light"
     },
     "output_type": "display_data"
    }
   ],
   "source": [
    "plt.figure(figsize=(8,6))\n",
    "plt.rcParams['patch.force_edgecolor'] = True\n",
    "ratings_mean_count['Book_Rating'].hist(bins=10)"
   ]
  },
  {
   "cell_type": "code",
   "execution_count": 44,
   "id": "81d2ae5d",
   "metadata": {
    "ExecuteTime": {
     "end_time": "2021-12-15T16:21:55.463914Z",
     "start_time": "2021-12-15T16:21:54.641779Z"
    }
   },
   "outputs": [
    {
     "data": {
      "text/plain": [
       "<seaborn.axisgrid.JointGrid at 0x1aab08b6b80>"
      ]
     },
     "execution_count": 44,
     "metadata": {},
     "output_type": "execute_result"
    },
    {
     "data": {
      "text/plain": [
       "<Figure size 576x432 with 0 Axes>"
      ]
     },
     "metadata": {},
     "output_type": "display_data"
    },
    {
     "data": {
      "image/png": "[encoded data removed]",
      "text/plain": [
       "<Figure size 432x432 with 3 Axes>"
      ]
     },
     "metadata": {
      "needs_background": "light"
     },
     "output_type": "display_data"
    }
   ],
   "source": [
    "plt.figure(figsize=(8,6))\n",
    "plt.rcParams['patch.force_edgecolor'] = True\n",
    "sns.jointplot(x='Book_Rating', y='rating_counts', data=ratings_mean_count, alpha=0.4)"
   ]
  },
  {
   "cell_type": "markdown",
   "id": "3f014ff6",
   "metadata": {},
   "source": [
    "## Outcomes"
   ]
  },
  {
   "cell_type": "markdown",
   "id": "68295a4d",
   "metadata": {},
   "source": [
    "####  From the output we can see that the Books that have high correlation with \" are not very well known.\n",
    "\n",
    "This shows that correlation alone is not a good metric for similarity because there can be a user who wished to take those books and only other books and rated them same."
   ]
  },
  {
   "cell_type": "code",
   "execution_count": null,
   "id": "174ae324",
   "metadata": {},
   "outputs": [],
   "source": []
  }
 ],
 "metadata": {
  "gist": {
   "data": {
    "description": "ASSIGNMENT 10 RECOMMENDATION ENGINE",
    "public": true
   },
   "id": ""
  },
  "kernelspec": {
   "display_name": "Python 3 (ipykernel)",
   "language": "python",
   "name": "python3"
  },
  "language_info": {
   "codemirror_mode": {
    "name": "ipython",
    "version": 3
   },
   "file_extension": ".py",
   "mimetype": "text/x-python",
   "name": "python",
   "nbconvert_exporter": "python",
   "pygments_lexer": "ipython3",
   "version": "3.9.12"
  },
  "varInspector": {
   "cols": {
    "lenName": 16,
    "lenType": 16,
    "lenVar": 40
   },
   "kernels_config": {
    "python": {
     "delete_cmd_postfix": "",
     "delete_cmd_prefix": "del ",
     "library": "var_list.py",
     "varRefreshCmd": "print(var_dic_list())"
    },
    "r": {
     "delete_cmd_postfix": ") ",
     "delete_cmd_prefix": "rm(",
     "library": "var_list.r",
     "varRefreshCmd": "cat(var_dic_list()) "
    }
   },
   "types_to_exclude": [
    "module",
    "function",
    "builtin_function_or_method",
    "instance",
    "_Feature"
   ],
   "window_display": false
  }
 },
 "nbformat": 4,
 "nbformat_minor": 5
}
